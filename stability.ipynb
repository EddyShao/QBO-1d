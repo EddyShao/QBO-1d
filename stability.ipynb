{
 "cells": [
  {
   "cell_type": "markdown",
   "metadata": {},
   "source": [
    "In this notebook, we are going to see the stability of linear models with\n",
    "- $u$\n",
    "- $u, sf, cw$\n",
    "- $u \\cdot sf$  \n",
    "\n",
    "under the control of \n",
    "- old control\n",
    "- new control"
   ]
  },
  {
   "cell_type": "code",
   "execution_count": 28,
   "metadata": {},
   "outputs": [
    {
     "name": "stdout",
     "output_type": "stream",
     "text": [
      "The autoreload extension is already loaded. To reload it, use:\n",
      "  %reload_ext autoreload\n"
     ]
    }
   ],
   "source": [
    "import numpy as np\n",
    "import matplotlib as mpl\n",
    "from matplotlib import pyplot as plt\n",
    "from matplotlib import colors\n",
    "from matplotlib.ticker import MultipleLocator\n",
    "import os.path\n",
    "from pathlib import Path\n",
    "import torch\n",
    "from torch import nn\n",
    "from torch.utils.data import Dataset, DataLoader\n",
    "\n",
    "from qbo1d import utils\n",
    "from qbo1d import adsolver\n",
    "from qbo1d import emulate\n",
    "from qbo1d.stochastic_forcing import WaveSpectrum\n",
    "\n",
    "from sklearn.linear_model import LinearRegression\n",
    "from sklearn.model_selection import train_test_split\n",
    "\n",
    "from qbo1d.stochastic_forcing import sample_sf_cw\n",
    "\n",
    "\n",
    "\n",
    "%load_ext autoreload\n",
    "%autoreload 2"
   ]
  },
  {
   "cell_type": "markdown",
   "metadata": {},
   "source": [
    "# Utils"
   ]
  },
  {
   "cell_type": "code",
   "execution_count": 29,
   "metadata": {},
   "outputs": [],
   "source": [
    "# data generator:\n",
    "def data_generator(state=1):\n",
    "    '''\n",
    "    Input: state(0~4)\n",
    "    STATE = 0 -> old control\n",
    "    STATE = 1 -> new control\n",
    "    STATE = 2 -> different mean\n",
    "    STATE = 3 -> different variance\n",
    "    STATE = 4 -> anti-correlation(non-physical) \n",
    "\n",
    "    Output: (u, s, sf, cw, solver)\n",
    "    '''\n",
    "\n",
    "    # parameter dicts\n",
    "    sfe = [3.7e-3, 3.8e-3, 3.2e-3, 3.8e-3, 3.8e-3]\n",
    "    sfv = [1e-8, 9e-8, 9e-8, 9e-10, 9e-8]\n",
    "    cwe = [32, 32, 40, 32, 32]\n",
    "    cwv = [225, 225, 225, 225, 225]\n",
    "    corr = [0.75, 0.75, 0.75, 0.75, -0.75]\n",
    "    seed = [int(21*9+8), int(21*9+7), int(21*6+15), int(21*12+5), int(21*2+10)]\n",
    "\n",
    "    # generate the matrix form\n",
    "\n",
    "    para_mat = np.array([sfe, sfv, cwe, cwv, corr, seed]).T\n",
    "\n",
    "\n",
    "    # Load the data manually\n",
    "    # it takes 40 seconds\n",
    "\n",
    "    t_max = 360 * 108 * 86400\n",
    "    nsteps = 360 * 108\n",
    "    nspinup = 360 * 12\n",
    "    ntot = int(nsteps - nspinup)\n",
    "\n",
    "    torch.set_default_dtype(torch.float64)\n",
    "\n",
    "\n",
    "    # scenario 0 (control)\n",
    "    # --------------------\n",
    "    solver = adsolver.ADSolver(t_max=t_max, w=3e-4)\n",
    "    model = WaveSpectrum(solver, *para_mat[state])\n",
    "    time = solver.time\n",
    "    z = solver.z\n",
    "    u = solver.solve(source_func=model)\n",
    "\n",
    "    return u, model.s, model.sf, model.cw, solver\n"
   ]
  },
  {
   "cell_type": "code",
   "execution_count": 30,
   "metadata": {},
   "outputs": [],
   "source": [
    "# Plotting function\n",
    "\n",
    "def ax_pos_inch_to_absolute(fig_size, ax_pos_inch):\n",
    "    ax_pos_absolute = []\n",
    "    ax_pos_absolute.append(ax_pos_inch[0]/fig_size[0])\n",
    "    ax_pos_absolute.append(ax_pos_inch[1]/fig_size[1])\n",
    "    ax_pos_absolute.append(ax_pos_inch[2]/fig_size[0])\n",
    "    ax_pos_absolute.append(ax_pos_inch[3]/fig_size[1])\n",
    "    \n",
    "    return ax_pos_absolute\n",
    "\n",
    "def plot_76_tensors(u, solver, amp25=None, amp20=None, period=None, isu=True):\n",
    "    fig_size = (06.90, 02.20+01.50)\n",
    "    fig = plt.figure(figsize=fig_size)\n",
    "\n",
    "    ax = []\n",
    "\n",
    "    ax.append(fig.add_axes(ax_pos_inch_to_absolute(fig_size, [00.75, 01.25, 06.00, 02.00])))\n",
    "\n",
    "    cmin = -u.abs().max()\n",
    "    cmax = u.abs().max()\n",
    "    print(cmin)\n",
    "    print(cmax)\n",
    "\n",
    "    xmin = 84.\n",
    "    xmax = 96.\n",
    "    ymin = 17.\n",
    "    ymax = 35.\n",
    "\n",
    "    ax[0].set_xlim(left=84.)\n",
    "    ax[0].set_xlim(right=96.)\n",
    "    ax[0].set_ylim(bottom=17.)\n",
    "    ax[0].set_ylim(top=35.)\n",
    "\n",
    "    h = []\n",
    "\n",
    "    h.append(ax[0].contourf(solver.time/86400/360, solver.z/1000, u.T,\n",
    "                21, cmap=\"RdYlBu_r\", vmin=cmin, vmax=cmax))\n",
    "\n",
    "    \n",
    "    ax[0].set_ylabel('Km', fontsize=10)\n",
    "\n",
    "    ax[0].set_xlabel('model year', fontsize=10)\n",
    "\n",
    "    # Set ticks\n",
    "    xticks_list = np.arange(xmin, xmax+1, 1)\n",
    "    ax[0].set_xticks(xticks_list)\n",
    "\n",
    "    yticks_list = np.arange(ymin, ymax+2, 2)\n",
    "    ax[0].set_yticks(yticks_list)\n",
    "\n",
    "    xticklabels_list = list(xticks_list)\n",
    "    xticklabels_list = [ '%.0f' % elem for elem in xticklabels_list ]\n",
    "    ax[0].set_xticklabels(xticklabels_list, fontsize=10)\n",
    "\n",
    "    ax[0].xaxis.set_minor_locator(MultipleLocator(1.))\n",
    "    ax[0].yaxis.set_minor_locator(MultipleLocator(1.))\n",
    "\n",
    "    ax[0].tick_params(which='both', left=True, right=True, bottom=True, top=True)\n",
    "    ax[0].tick_params(which='both', labelbottom=True)\n",
    "\n",
    "    # if u, the display \\tau and \\sigma\n",
    "    if isu:\n",
    "        ax[0].axhline(25., xmin=0, xmax=1, color='white', linestyle='dashed', linewidth=1.)\n",
    "        ax[0].axhline(20., xmin=0, xmax=1, color='white', linestyle='dashed', linewidth=1.)\n",
    "\n",
    "        ax[0].text(95.50, 25, r'$\\sigma_{25}$ = ' '%.1f' %amp25 + r'$\\mathrm{m s^{-1}}$',\n",
    "        horizontalalignment='right', verticalalignment='bottom', color='black')\n",
    "\n",
    "        ax[0].text(95.50, 20, r'$\\sigma_{20}$ = ' '%.1f' %amp20 + r'$\\mathrm{m s^{-1}}$',\n",
    "        horizontalalignment='right', verticalalignment='bottom', color='black')\n",
    "\n",
    "        ax[0].text(84.50, 25, r'$\\tau_{25}$ = ' '%.0f' %period + 'months',\n",
    "        horizontalalignment='left', verticalalignment='bottom', color='black')\n",
    "\n",
    "    # The label it displays\n",
    "    # u/s has different dimension\n",
    "    if isu:\n",
    "        label = r'$\\mathrm{m s^{-1}}$'\n",
    "    else:\n",
    "        label = r'$\\mathrm{m s^{-2}}$'\n",
    "    \n",
    "    # Color bars\n",
    "    if isu:\n",
    "        cbar_ax0 = fig.add_axes(ax_pos_inch_to_absolute(fig_size, [01.00, 00.50, 05.50, 00.10])) \n",
    "        ax[0].figure.colorbar(plt.cm.ScalarMappable(cmap=\"RdYlBu_r\"), cax=cbar_ax0, format='% 2.0f', \n",
    "        boundaries=np.linspace(cmin, cmax, 21), orientation='horizontal',\n",
    "        label=label)\n",
    "    else:\n",
    "        cbar_ax0 = fig.add_axes(ax_pos_inch_to_absolute(fig_size, [01.00, 00.50, 05.50, 00.10])) \n",
    "        ax[0].figure.colorbar(plt.cm.ScalarMappable(cmap=\"RdYlBu_r\"), cax=cbar_ax0, format='% .2e', \n",
    "        boundaries=np.linspace(cmin, cmax, 11), orientation='horizontal',\n",
    "        label=label)"
   ]
  },
  {
   "cell_type": "markdown",
   "metadata": {},
   "source": [
    "# Old control"
   ]
  },
  {
   "cell_type": "code",
   "execution_count": 31,
   "metadata": {},
   "outputs": [],
   "source": [
    "STATE = 0\n",
    "u, s, sf, cw, solver = data_generator(state=STATE)"
   ]
  },
  {
   "cell_type": "code",
   "execution_count": 32,
   "metadata": {},
   "outputs": [],
   "source": [
    "nsteps = 360 * 108\n",
    "nspinup = 360 * 12\n",
    "\n",
    "u = u[nspinup:nsteps, :]\n",
    "s = s[nspinup:nsteps, :] \n",
    "sf = sf[nspinup:nsteps]\n",
    "cw = cw[nspinup:nsteps]\n",
    "\n",
    "U_0 = u\n",
    "\n",
    "U_1 = torch.hstack([u, sf.view(-1, 1), cw.view(-1, 1)])\n",
    "\n",
    "U_2 = torch.diag(sf) @ u\n",
    "\n",
    "# Here U is the features and s is the label\n",
    "\n",
    "U_train_0, U_test_0, s_train_0, s_test_0 = train_test_split(U_0, s, test_size=0.2, random_state=42)\n",
    "U_train_1, U_test_1, s_train_1, s_test_1 = train_test_split(U_1, s, test_size=0.2, random_state=42)\n",
    "U_train_2, U_test_2, s_train_2, s_test_2 = train_test_split(U_2, s, test_size=0.2, random_state=42)"
   ]
  },
  {
   "cell_type": "markdown",
   "metadata": {},
   "source": [
    "## Training"
   ]
  },
  {
   "cell_type": "code",
   "execution_count": 33,
   "metadata": {},
   "outputs": [],
   "source": [
    "reg_0 = LinearRegression().fit(U_train_0, s_train_0)\n",
    "reg_1 = LinearRegression().fit(U_train_1, s_train_1)\n",
    "reg_2 = LinearRegression().fit(U_train_2, s_train_2)"
   ]
  },
  {
   "cell_type": "markdown",
   "metadata": {},
   "source": [
    "## Online"
   ]
  },
  {
   "cell_type": "code",
   "execution_count": 34,
   "metadata": {},
   "outputs": [],
   "source": [
    "torch.set_default_dtype(torch.float64)\n",
    "\n",
    "# We set the tmax a little bit longer\n",
    "# the default is 360*96*86400\n",
    "# now we set it to 360*96\n",
    "solver_ML = adsolver.ADSolver(t_max=20*360*96*86400, w=3e-4)\n",
    "\n",
    "# Set up the linear model to pass in the PDE\n",
    "\n",
    "sf_ML, cw_ML = sample_sf_cw(solver_ML.time.shape[0], sfe=3.7e-3, sfv=1e-8, cwe=32, cwv=225, corr=0.75, seed=int(21*9+8))\n",
    "\n",
    "\n",
    "# u\n",
    "model_ML_0 = lambda x : torch.tensor(reg_0.coef_) @ x + torch.tensor(reg_0.intercept_)\n",
    "\n",
    "\n",
    "u_ML_0 = solver_ML.solve(source_func=model_ML_0)\n",
    "u_ML_0 = u_ML_0.detach()\n",
    "\n",
    "\n",
    "\n",
    "# u, sf, cw\n",
    "solver_ML = adsolver.ADSolver(t_max=20*360*96*86400, w=3e-4)\n",
    "model_ML_1 = lambda x : torch.tensor(reg_1.coef_) @ torch.hstack([x, sf_ML[solver_ML.current_step], cw_ML[solver_ML.current_step]]) + torch.tensor(reg_1.intercept_)\n",
    "\n",
    "\n",
    "u_ML_1 = solver_ML.solve(source_func=model_ML_1)\n",
    "u_ML_1 = u_ML_0.detach()\n",
    "\n",
    "# u \\cdot sf\n",
    "\n",
    "solver_ML = adsolver.ADSolver(t_max=20*360*96*86400, w=3e-4)\n",
    "\n",
    "model_ML_2 = lambda x : torch.tensor(reg_2.coef_) @ (sf_ML[solver_ML.current_step]*x) + torch.tensor(reg_2.intercept_)\n",
    "\n",
    "\n",
    "u_ML_2 = solver_ML.solve(source_func=model_ML_2)\n",
    "u_ML_2 = u_ML_2.detach()\n",
    "\n"
   ]
  },
  {
   "cell_type": "code",
   "execution_count": 35,
   "metadata": {},
   "outputs": [
    {
     "data": {
      "image/png": "[encoded data removed]",
      "text/plain": [
       "<Figure size 432x288 with 1 Axes>"
      ]
     },
     "metadata": {
      "needs_background": "light"
     },
     "output_type": "display_data"
    },
    {
     "data": {
      "image/png": "[encoded data removed]",
      "text/plain": [
       "<Figure size 432x288 with 1 Axes>"
      ]
     },
     "metadata": {
      "needs_background": "light"
     },
     "output_type": "display_data"
    },
    {
     "data": {
      "image/png": "[encoded data removed]",
      "text/plain": [
       "<Figure size 432x288 with 1 Axes>"
      ]
     },
     "metadata": {
      "needs_background": "light"
     },
     "output_type": "display_data"
    }
   ],
   "source": [
    "plt.plot(u_ML_0[:, 35])\n",
    "plt.xlabel('timestep')\n",
    "plt.ylabel('zonal wind at z=35')\n",
    "plt.title('OLD Control - Dataset:(u)')\n",
    "plt.show()\n",
    "\n",
    "plt.plot(u_ML_1[:, 35])\n",
    "plt.xlabel('timestep')\n",
    "plt.ylabel('zonal wind at z=35')\n",
    "plt.title('OLD Control - Dataset:(u, sf, cw)')\n",
    "plt.show()\n",
    "\n",
    "plt.plot(u_ML_2[:, 35])\n",
    "plt.xlabel('timestep')\n",
    "plt.ylabel('zonal wind at z=35')\n",
    "plt.title('OLD Control - Dataset:(u*sf)')\n",
    "plt.show()"
   ]
  },
  {
   "cell_type": "markdown",
   "metadata": {},
   "source": [
    "# New Control"
   ]
  },
  {
   "cell_type": "code",
   "execution_count": 36,
   "metadata": {},
   "outputs": [],
   "source": [
    "STATE = 1\n",
    "u, s, sf, cw, solver = data_generator(state=STATE)"
   ]
  },
  {
   "cell_type": "code",
   "execution_count": 37,
   "metadata": {},
   "outputs": [],
   "source": [
    "nsteps = 360 * 108\n",
    "nspinup = 360 * 12\n",
    "\n",
    "u = u[nspinup:nsteps, :]\n",
    "s = s[nspinup:nsteps, :] \n",
    "sf = sf[nspinup:nsteps]\n",
    "cw = cw[nspinup:nsteps]\n",
    "\n",
    "U_0 = u\n",
    "\n",
    "U_1 = torch.hstack([u, sf.view(-1, 1), cw.view(-1, 1)])\n",
    "\n",
    "U_2 = torch.diag(sf) @ u\n",
    "\n",
    "# Here U is the features and s is the label\n",
    "\n",
    "U_train_0, U_test_0, s_train_0, s_test_0 = train_test_split(U_0, s, test_size=0.2, random_state=42)\n",
    "U_train_1, U_test_1, s_train_1, s_test_1 = train_test_split(U_1, s, test_size=0.2, random_state=42)\n",
    "U_train_2, U_test_2, s_train_2, s_test_2 = train_test_split(U_2, s, test_size=0.2, random_state=42)"
   ]
  },
  {
   "cell_type": "markdown",
   "metadata": {},
   "source": [
    "## Training"
   ]
  },
  {
   "cell_type": "code",
   "execution_count": 38,
   "metadata": {},
   "outputs": [],
   "source": [
    "reg_0 = LinearRegression().fit(U_train_0, s_train_0)\n",
    "reg_1 = LinearRegression().fit(U_train_1, s_train_1)\n",
    "reg_2 = LinearRegression().fit(U_train_2, s_train_2)"
   ]
  },
  {
   "cell_type": "markdown",
   "metadata": {},
   "source": [
    "## Online"
   ]
  },
  {
   "cell_type": "code",
   "execution_count": 39,
   "metadata": {},
   "outputs": [],
   "source": [
    "torch.set_default_dtype(torch.float64)\n",
    "\n",
    "# We set the tmax a little bit longer\n",
    "# the default is 360*96*86400\n",
    "# now we set it to 360*96\n",
    "solver_ML = adsolver.ADSolver(t_max=20*360*96*86400, w=3e-4)\n",
    "\n",
    "# Set up the linear model to pass in the PDE\n",
    "\n",
    "new_control = [3.80e-03, 1.00e-08, 3.20e+01, 2.25e+02, 7.50e-01, int(21*9+7)]\n",
    "\n",
    "sf_ML, cw_ML = sample_sf_cw(solver_ML.time.shape[0], *new_control)\n",
    "\n",
    "# u\n",
    "model_ML_0 = lambda x : torch.tensor(reg_0.coef_) @ x + torch.tensor(reg_0.intercept_)\n",
    "\n",
    "\n",
    "u_ML_0 = solver_ML.solve(source_func=model_ML_0)\n",
    "u_ML_0 = u_ML_0.detach()\n",
    "\n",
    "\n",
    "\n",
    "# u, sf, cw\n",
    "solver_ML = adsolver.ADSolver(t_max=20*360*96*86400, w=3e-4)\n",
    "model_ML_1 = lambda x : torch.tensor(reg_1.coef_) @ torch.hstack([x, sf_ML[solver_ML.current_step], cw_ML[solver_ML.current_step]]) + torch.tensor(reg_1.intercept_)\n",
    "\n",
    "\n",
    "u_ML_1 = solver_ML.solve(source_func=model_ML_1)\n",
    "u_ML_1 = u_ML_0.detach()\n",
    "\n",
    "# u \\cdot sf\n",
    "\n",
    "solver_ML = adsolver.ADSolver(t_max=20*360*96*86400, w=3e-4)\n",
    "\n",
    "model_ML_2 = lambda x : torch.tensor(reg_2.coef_) @ (sf_ML[solver_ML.current_step]*x) + torch.tensor(reg_2.intercept_)\n",
    "\n",
    "\n",
    "u_ML_2 = solver_ML.solve(source_func=model_ML_2)\n",
    "u_ML_2 = u_ML_2.detach()\n"
   ]
  },
  {
   "cell_type": "code",
   "execution_count": 40,
   "metadata": {},
   "outputs": [
    {
     "data": {
      "image/png": "[encoded data removed]",
      "text/plain": [
       "<Figure size 432x288 with 1 Axes>"
      ]
     },
     "metadata": {
      "needs_background": "light"
     },
     "output_type": "display_data"
    },
    {
     "data": {
      "image/png": "[encoded data removed]",
      "text/plain": [
       "<Figure size 432x288 with 1 Axes>"
      ]
     },
     "metadata": {
      "needs_background": "light"
     },
     "output_type": "display_data"
    },
    {
     "data": {
      "image/png": "[encoded data removed]",
      "text/plain": [
       "<Figure size 432x288 with 1 Axes>"
      ]
     },
     "metadata": {
      "needs_background": "light"
     },
     "output_type": "display_data"
    }
   ],
   "source": [
    "# Visualization\n",
    "plt.plot(u_ML_0[:, 35])\n",
    "plt.xlabel('timestep')\n",
    "plt.ylabel('zonal wind at z=35')\n",
    "plt.title('NEW Control - Dataset:(u)')\n",
    "plt.show()\n",
    "\n",
    "plt.plot(u_ML_1[:, 35])\n",
    "plt.xlabel('timestep')\n",
    "plt.ylabel('zonal wind at z=35')\n",
    "plt.title('NEW Control - Dataset:(u, sf, cw)')\n",
    "plt.show()\n",
    "\n",
    "plt.plot(u_ML_2[:, 35])\n",
    "plt.xlabel('timestep')\n",
    "plt.ylabel('zonal wind at z=35')\n",
    "plt.title('NEW Control - Dataset:(u*sf)')\n",
    "plt.show()"
   ]
  },
  {
   "cell_type": "markdown",
   "metadata": {},
   "source": [
    "As we can see, all the results are bad, but bad in very different ways..."
   ]
  },
  {
   "cell_type": "markdown",
   "metadata": {},
   "source": []
  }
 ],
 "metadata": {
  "interpreter": {
   "hash": "830733ea9d918b531834fa8b8da0fcefcd54d93d922d0ee5d3d3c2269aa3eec6"
  },
  "kernelspec": {
   "display_name": "Python 3.8.8 ('py38')",
   "language": "python",
   "name": "python3"
  },
  "language_info": {
   "codemirror_mode": {
    "name": "ipython",
    "version": 3
   },
   "file_extension": ".py",
   "mimetype": "text/x-python",
   "name": "python",
   "nbconvert_exporter": "python",
   "pygments_lexer": "ipython3",
   "version": "3.8.8"
  },
  "orig_nbformat": 4
 },
 "nbformat": 4,
 "nbformat_minor": 2
}
