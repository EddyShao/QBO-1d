{
 "cells": [
  {
   "cell_type": "code",
   "execution_count": 110,
   "metadata": {},
   "outputs": [
    {
     "name": "stdout",
     "output_type": "stream",
     "text": [
      "The autoreload extension is already loaded. To reload it, use:\n",
      "  %reload_ext autoreload\n"
     ]
    }
   ],
   "source": [
    "import numpy as np\n",
    "import matplotlib as mpl\n",
    "from matplotlib import pyplot as plt\n",
    "from matplotlib import colors\n",
    "from matplotlib.ticker import MultipleLocator\n",
    "import os.path\n",
    "from pathlib import Path\n",
    "import torch\n",
    "from torch import nn\n",
    "from torch.utils.data import Dataset, DataLoader\n",
    "\n",
    "from qbo1d import utils\n",
    "from qbo1d import adsolver\n",
    "from qbo1d import emulate\n",
    "from qbo1d.stochastic_forcing import WaveSpectrum\n",
    "\n",
    "from sklearn.linear_model import LinearRegression\n",
    "from sklearn.model_selection import train_test_split\n",
    "\n",
    "from sklearn.decomposition import PCA\n",
    "\n",
    "from qbo1d.stochastic_forcing import sample_sf_cw\n",
    "\n",
    "%load_ext autoreload\n",
    "%autoreload 2"
   ]
  },
  {
   "cell_type": "code",
   "execution_count": 111,
   "metadata": {},
   "outputs": [],
   "source": [
    "def ax_pos_inch_to_absolute(fig_size, ax_pos_inch):\n",
    "    ax_pos_absolute = []\n",
    "    ax_pos_absolute.append(ax_pos_inch[0]/fig_size[0])\n",
    "    ax_pos_absolute.append(ax_pos_inch[1]/fig_size[1])\n",
    "    ax_pos_absolute.append(ax_pos_inch[2]/fig_size[0])\n",
    "    ax_pos_absolute.append(ax_pos_inch[3]/fig_size[1])\n",
    "    \n",
    "    return ax_pos_absolute"
   ]
  },
  {
   "cell_type": "code",
   "execution_count": 112,
   "metadata": {},
   "outputs": [],
   "source": [
    "def plot_76_tensors(u, solver, amp25=None, amp20=None, period=None, isu=True):\n",
    "    fig_size = (06.90, 02.20+01.50)\n",
    "    fig = plt.figure(figsize=fig_size)\n",
    "\n",
    "    ax = []\n",
    "\n",
    "    ax.append(fig.add_axes(ax_pos_inch_to_absolute(fig_size, [00.75, 01.25, 06.00, 02.00])))\n",
    "\n",
    "    cmin = -u.abs().max()\n",
    "    cmax = u.abs().max()\n",
    "    print(cmin)\n",
    "    print(cmax)\n",
    "\n",
    "    xmin = 84.\n",
    "    xmax = 96.\n",
    "    ymin = 17.\n",
    "    ymax = 35.\n",
    "\n",
    "    ax[0].set_xlim(left=84.)\n",
    "    ax[0].set_xlim(right=96.)\n",
    "    ax[0].set_ylim(bottom=17.)\n",
    "    ax[0].set_ylim(top=35.)\n",
    "\n",
    "    h = []\n",
    "\n",
    "    h.append(ax[0].contourf(solver.time/86400/360, solver.z/1000, u.T,\n",
    "                21, cmap=\"RdYlBu_r\", vmin=cmin, vmax=cmax))\n",
    "\n",
    "    \n",
    "    ax[0].set_ylabel('Km', fontsize=10)\n",
    "\n",
    "    ax[0].set_xlabel('model year', fontsize=10)\n",
    "\n",
    "    # Set ticks\n",
    "    xticks_list = np.arange(xmin, xmax+1, 1)\n",
    "    ax[0].set_xticks(xticks_list)\n",
    "\n",
    "    yticks_list = np.arange(ymin, ymax+2, 2)\n",
    "    ax[0].set_yticks(yticks_list)\n",
    "\n",
    "    xticklabels_list = list(xticks_list)\n",
    "    xticklabels_list = [ '%.0f' % elem for elem in xticklabels_list ]\n",
    "    ax[0].set_xticklabels(xticklabels_list, fontsize=10)\n",
    "\n",
    "    ax[0].xaxis.set_minor_locator(MultipleLocator(1.))\n",
    "    ax[0].yaxis.set_minor_locator(MultipleLocator(1.))\n",
    "\n",
    "    ax[0].tick_params(which='both', left=True, right=True, bottom=True, top=True)\n",
    "    ax[0].tick_params(which='both', labelbottom=True)\n",
    "\n",
    "    # if u, the display \\tau and \\sigma\n",
    "    if isu:\n",
    "        ax[0].axhline(25., xmin=0, xmax=1, color='white', linestyle='dashed', linewidth=1.)\n",
    "        ax[0].axhline(20., xmin=0, xmax=1, color='white', linestyle='dashed', linewidth=1.)\n",
    "\n",
    "        ax[0].text(95.50, 25, r'$\\sigma_{25}$ = ' '%.1f' %amp25 + r'$\\mathrm{m s^{-1}}$',\n",
    "        horizontalalignment='right', verticalalignment='bottom', color='black')\n",
    "\n",
    "        ax[0].text(95.50, 20, r'$\\sigma_{20}$ = ' '%.1f' %amp20 + r'$\\mathrm{m s^{-1}}$',\n",
    "        horizontalalignment='right', verticalalignment='bottom', color='black')\n",
    "\n",
    "        ax[0].text(84.50, 25, r'$\\tau_{25}$ = ' '%.0f' %period + 'months',\n",
    "        horizontalalignment='left', verticalalignment='bottom', color='black')\n",
    "\n",
    "    # The label it displays\n",
    "    # u/s has different dimension\n",
    "    if isu:\n",
    "        label = r'$\\mathrm{m s^{-1}}$'\n",
    "    else:\n",
    "        label = r'$\\mathrm{m s^{-2}}$'\n",
    "    \n",
    "    # Color bars\n",
    "    if isu:\n",
    "        cbar_ax0 = fig.add_axes(ax_pos_inch_to_absolute(fig_size, [01.00, 00.50, 05.50, 00.10])) \n",
    "        ax[0].figure.colorbar(plt.cm.ScalarMappable(cmap=\"RdYlBu_r\"), cax=cbar_ax0, format='% 2.0f', \n",
    "        boundaries=np.linspace(cmin, cmax, 21), orientation='horizontal',\n",
    "        label=label)\n",
    "    else:\n",
    "        cbar_ax0 = fig.add_axes(ax_pos_inch_to_absolute(fig_size, [01.00, 00.50, 05.50, 00.10])) \n",
    "        ax[0].figure.colorbar(plt.cm.ScalarMappable(cmap=\"RdYlBu_r\"), cax=cbar_ax0, format='% .2e', \n",
    "        boundaries=np.linspace(cmin, cmax, 11), orientation='horizontal',\n",
    "        label=label)"
   ]
  },
  {
   "cell_type": "markdown",
   "metadata": {},
   "source": [
    "# Generate/Load the standard model"
   ]
  },
  {
   "cell_type": "markdown",
   "metadata": {},
   "source": [
    "## Load the data (or generate it with the PDE solver) "
   ]
  },
  {
   "cell_type": "code",
   "execution_count": 123,
   "metadata": {},
   "outputs": [
    {
     "name": "stdout",
     "output_type": "stream",
     "text": [
      "The shape of data U is (34560, 75)\n"
     ]
    }
   ],
   "source": [
    "# To save some time, we use the preloaded data\n",
    "u = np.load('/Users/eddysmac/Desktop/QBO-Research/qbo1d/u.npy')\n",
    "s = np.load('/Users/eddysmac/Desktop/QBO-Research/qbo1d/s.npy')\n",
    "sf = np.load('/Users/eddysmac/Desktop/QBO-Research/qbo1d/sf.npy')\n",
    "cw = np.load('/Users/eddysmac/Desktop/QBO-Research/qbo1d/cw.npy')\n",
    "\n",
    "nsteps = 360 * 108\n",
    "nspinup = 360 * 12\n",
    "\n",
    "u = u[nspinup:nsteps, :]\n",
    "s = s[nspinup:nsteps, :]\n",
    "cw = cw[nspinup:nsteps]\n",
    "sf = sf[nspinup:nsteps]\n",
    "\n",
    "# train-test split\n",
    "# test_size = 0.2\n",
    "\n",
    "U = np.hstack([u, sf.reshape(-1, 1), cw.reshape(-1, 1)])\n",
    "print(f\"The shape of data U is {U.shape}\")\n",
    "\n",
    "# Here U is the features and s is the label\n",
    "\n",
    "U_train, U_test, s_train, s_test = train_test_split(U, s, test_size=0.2, random_state=42)"
   ]
  },
  {
   "cell_type": "markdown",
   "metadata": {},
   "source": [
    "## Generate the Linear Models\n",
    "- Take the linear regression with $(U, sf, cw)$.\n"
   ]
  },
  {
   "cell_type": "code",
   "execution_count": 124,
   "metadata": {},
   "outputs": [
    {
     "data": {
      "text/plain": [
       "0.8927183097738166"
      ]
     },
     "execution_count": 124,
     "metadata": {},
     "output_type": "execute_result"
    }
   ],
   "source": [
    "reg = LinearRegression()\n",
    "reg.fit(U_train, s_train)\n",
    "reg.score(U_test, s_test)"
   ]
  },
  {
   "cell_type": "markdown",
   "metadata": {},
   "source": [
    "# Perturbation"
   ]
  },
  {
   "cell_type": "markdown",
   "metadata": {},
   "source": [
    "## Peturbation matrix\n",
    "Each row represents a state\n",
    "- state = 0: the control case\n",
    "- state = 1: biased means\n",
    "- state = 2: biased variance\n",
    "- state = 3: anti-correlated fluxes and spectral width\n"
   ]
  },
  {
   "cell_type": "code",
   "execution_count": 125,
   "metadata": {},
   "outputs": [
    {
     "name": "stdout",
     "output_type": "stream",
     "text": [
      "Parameters: \n",
      " [[ 3.80e-03  1.00e-08  3.20e+01  2.25e+02  7.50e-01  1.96e+02]\n",
      " [ 3.20e-03  9.00e-08  4.00e+01  2.25e+02  7.50e-01  1.41e+02]\n",
      " [ 3.80e-03  9.00e-10  3.20e+01  2.25e+02  7.50e-01  2.57e+02]\n",
      " [ 3.80e-03  9.00e-08  3.20e+01  2.25e+02 -7.50e-01  5.20e+01]]\n"
     ]
    }
   ],
   "source": [
    "sfe = [3.8e-3, 3.2e-3, 3.8e-3, 3.8e-3]\n",
    "sfv = [1e-8, 9e-8, 9e-10, 9e-8]\n",
    "cwe = [32, 40, 32, 32]\n",
    "cwv = [225, 225, 225, 225]\n",
    "corr = [0.75, 0.75, 0.75, -0.75]\n",
    "seed = [int(21*9+7), int(21*6+15), int(21*12+5), int(21*2+10)]\n",
    "\n",
    "# generate the matrix form\n",
    "\n",
    "pert_mat = np.array([sfe, sfv, cwe, cwv, corr, seed]).T\n",
    "\n",
    "print(\"Parameters: \\n\", pert_mat)"
   ]
  },
  {
   "cell_type": "markdown",
   "metadata": {},
   "source": [
    "## Use the PDE solver to solve the purterbed cases"
   ]
  },
  {
   "cell_type": "code",
   "execution_count": 126,
   "metadata": {},
   "outputs": [],
   "source": [
    "# Specify the purterbed state\n",
    "STATE = 0"
   ]
  },
  {
   "cell_type": "code",
   "execution_count": 127,
   "metadata": {},
   "outputs": [],
   "source": [
    "# use adsolver to solve the perturbed case\n",
    "t_max = 360 * 108 * 86400\n",
    "nsteps = 360 * 108\n",
    "nspinup = 360 * 12\n",
    "ntot = int(nsteps - nspinup)\n",
    "\n",
    "torch.set_default_dtype(torch.float64)\n",
    "\n",
    "\n",
    "# scenario 0 (control)\n",
    "# --------------------\n",
    "solver = adsolver.ADSolver(t_max=t_max, w=3e-4)\n",
    "model = WaveSpectrum(solver, *pert_mat[STATE]) \n",
    "time = solver.time\n",
    "z_p = solver.z\n",
    "u_p = solver.solve(source_func=model)\n",
    "cw_p, sf_p = model.cw, model.sf\n"
   ]
  },
  {
   "cell_type": "code",
   "execution_count": 118,
   "metadata": {},
   "outputs": [],
   "source": [
    "spinup_time = 12*360*86400\n",
    "\n",
    "amp25 = utils.estimate_amplitude(solver.time, solver.z, u_p, height=25e3, spinup=spinup_time)\n",
    "amp20 = utils.estimate_amplitude(solver.time, solver.z, u_p, height=20e3, spinup=spinup_time)\n",
    "tau25 = utils.estimate_period(solver.time, solver.z, u_p, height=25e3, spinup=spinup_time)"
   ]
  },
  {
   "cell_type": "markdown",
   "metadata": {},
   "source": [
    "### Visualization"
   ]
  },
  {
   "cell_type": "code",
   "execution_count": 119,
   "metadata": {},
   "outputs": [
    {
     "name": "stdout",
     "output_type": "stream",
     "text": [
      "tensor(-74.2398)\n",
      "tensor(74.2398)\n"
     ]
    },
    {
     "data": {
      "image/png": "[encoded data removed]",
      "text/plain": [
       "<Figure size 496.8x266.4 with 2 Axes>"
      ]
     },
     "metadata": {
      "needs_background": "light"
     },
     "output_type": "display_data"
    }
   ],
   "source": [
    "plot_76_tensors(u_p, solver=solver, amp25=amp25, amp20=amp20, period=tau25, isu=True)"
   ]
  },
  {
   "cell_type": "markdown",
   "metadata": {},
   "source": [
    "# Use the linear model to predict the perturbation case"
   ]
  },
  {
   "cell_type": "markdown",
   "metadata": {},
   "source": [
    "## OFFLINE performance"
   ]
  },
  {
   "cell_type": "markdown",
   "metadata": {},
   "source": [
    "## ONLINE testing"
   ]
  },
  {
   "cell_type": "code",
   "execution_count": 132,
   "metadata": {},
   "outputs": [
    {
     "name": "stdout",
     "output_type": "stream",
     "text": [
      "The UN - truncated u has length:  34561\n",
      "The truncated u has length:  34561\n"
     ]
    }
   ],
   "source": [
    "torch.set_default_dtype(torch.float64)\n",
    "solver_ML = adsolver.ADSolver(t_max=360*96*86400, w=3e-4)\n",
    "\n",
    "# Set up the linear model to pass in the PDE\n",
    "\n",
    "sf_ML, cw_ML = sample_sf_cw(solver_ML.time.shape[0], sfe=3.8e-3, sfv=1e-8, cwe=32, cwv=225, corr=0.75, seed=int(21*9+8))\n",
    "\n",
    "model_ML_aug = lambda x : torch.tensor(reg.coef_) @ torch.hstack([x, sf_ML[solver_ML.current_step], cw_ML[solver_ML.current_step]]) + torch.tensor(reg.intercept_)\n",
    "\n",
    "\n",
    "u_ML = solver_ML.solve(source_func=model_ML_aug)\n",
    "u_ML = u_ML.detach()\n",
    "\n",
    "print(\"The UN - truncated u has length: \", len(u_ML))\n",
    "nan_boolean = torch.tensor([not u_ML[i].isnan().any() for i in range(len(u_ML))]) # Boolean array to detect where u blows up\n",
    "u_ML = u_ML[nan_boolean]\n",
    "print(\"The truncated u has length: \", len(u_ML))"
   ]
  },
  {
   "cell_type": "code",
   "execution_count": 133,
   "metadata": {},
   "outputs": [],
   "source": [
    "spinup_time = 12*360*86400\n",
    "\n",
    "amp25_ML = utils.estimate_amplitude(solver_ML.time, solver_ML.z, u_ML, height=25e3, spinup=spinup_time)\n",
    "amp20_ML = utils.estimate_amplitude(solver_ML.time, solver_ML.z, u_ML, height=20e3, spinup=spinup_time)\n",
    "tau25_ML = utils.estimate_period(solver_ML.time, solver_ML.z, u_ML, height=25e3, spinup=spinup_time)"
   ]
  },
  {
   "cell_type": "code",
   "execution_count": 134,
   "metadata": {},
   "outputs": [
    {
     "name": "stdout",
     "output_type": "stream",
     "text": [
      "tensor(-82573.1351)\n",
      "tensor(82573.1351)\n"
     ]
    },
    {
     "data": {
      "image/png": "[encoded data removed]",
      "text/plain": [
       "<Figure size 496.8x266.4 with 2 Axes>"
      ]
     },
     "metadata": {
      "needs_background": "light"
     },
     "output_type": "display_data"
    }
   ],
   "source": [
    "plot_76_tensors(u_ML, solver_ML, amp25=amp25_ML, amp20=amp20_ML, period=tau25_ML, isu=True)"
   ]
  },
  {
   "cell_type": "markdown",
   "metadata": {},
   "source": [
    "The model doesn't work after the perturbation"
   ]
  },
  {
   "cell_type": "markdown",
   "metadata": {},
   "source": []
  }
 ],
 "metadata": {
  "interpreter": {
   "hash": "830733ea9d918b531834fa8b8da0fcefcd54d93d922d0ee5d3d3c2269aa3eec6"
  },
  "kernelspec": {
   "display_name": "Python 3.8.8 ('py38')",
   "language": "python",
   "name": "python3"
  },
  "language_info": {
   "codemirror_mode": {
    "name": "ipython",
    "version": 3
   },
   "file_extension": ".py",
   "mimetype": "text/x-python",
   "name": "python",
   "nbconvert_exporter": "python",
   "pygments_lexer": "ipython3",
   "version": "3.8.8"
  },
  "orig_nbformat": 4
 },
 "nbformat": 4,
 "nbformat_minor": 2
}
