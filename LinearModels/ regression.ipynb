{
 "cells": [
  {
   "cell_type": "code",
   "execution_count": 1,
   "metadata": {},
   "outputs": [],
   "source": [
    "import numpy as np\n",
    "import matplotlib as mpl\n",
    "from matplotlib import pyplot as plt\n",
    "from matplotlib import colors\n",
    "from matplotlib.ticker import MultipleLocator\n",
    "import os.path\n",
    "from pathlib import Path\n",
    "import torch\n",
    "from torch import nn\n",
    "from torch.utils.data import Dataset, DataLoader\n",
    "\n",
    "from qbo1d import utils\n",
    "from qbo1d import adsolver\n",
    "from qbo1d import emulate\n",
    "from qbo1d.stochastic_forcing import WaveSpectrum\n",
    "\n",
    "from sklearn.linear_model import LinearRegression, Ridge, Lasso\n",
    "from qbo1d.emulate import relative_MSELoss"
   ]
  },
  {
   "cell_type": "markdown",
   "metadata": {},
   "source": [
    "## Data Loading"
   ]
  },
  {
   "cell_type": "markdown",
   "metadata": {},
   "source": [
    "### Use the PyTorch dataloader form for sratch"
   ]
  },
  {
   "cell_type": "code",
   "execution_count": 15,
   "metadata": {},
   "outputs": [],
   "source": [
    "dir_name = \"./data/direct/\"\n",
    "file_name = \"control.nc\"\n",
    "\n",
    "data = emulate.QBODataset(file_path=dir_name + file_name)\n",
    "\n",
    "num_split = int((len(data))/5)\n",
    "\n",
    "# Here use batch_size = 1\n",
    "batch_size = 1\n",
    "\n",
    "split_data = torch.utils.data.random_split(data, [len(data)-num_split, num_split], generator=torch.Generator().manual_seed(42))\n",
    "train_dataloader = DataLoader(split_data[0], batch_size=batch_size, shuffle=True)\n",
    "test_dataloader = DataLoader(split_data[1], batch_size=batch_size, shuffle=True)\n",
    "\n"
   ]
  },
  {
   "cell_type": "code",
   "execution_count": 16,
   "metadata": {},
   "outputs": [
    {
     "name": "stdout",
     "output_type": "stream",
     "text": [
      "Train Array Size (27648, 73)\n",
      "Test Array Size (6912, 73)\n"
     ]
    }
   ],
   "source": [
    "train_length = len(train_dataloader)\n",
    "for i, (X, Y) in enumerate(train_dataloader):\n",
    "    train_width = X.shape[1]\n",
    "    break\n",
    "\n",
    "test_length = len(test_dataloader)\n",
    "for i, (X, Y) in enumerate(test_dataloader):\n",
    "    test_width = X.shape[1]\n",
    "    break\n",
    "\n",
    "print(f\"Train Array Size ({train_length}, {train_width})\")\n",
    "print(f\"Test Array Size ({test_length}, {test_width})\")"
   ]
  },
  {
   "cell_type": "markdown",
   "metadata": {},
   "source": [
    "### Transform it to the naive numpy version"
   ]
  },
  {
   "cell_type": "code",
   "execution_count": 17,
   "metadata": {},
   "outputs": [],
   "source": [
    "train_X = np.zeros((train_length, train_width))\n",
    "train_Y = np.zeros((train_length, train_width))\n",
    "\n",
    "test_X = np.zeros((test_length, test_width))\n",
    "test_Y = np.zeros((test_length, test_width))\n",
    "\n",
    "for i, (X, Y) in enumerate(train_dataloader):\n",
    "    train_X[i] = X\n",
    "    train_Y[i] = Y\n",
    "\n",
    "for i, (X, Y) in enumerate(test_dataloader):\n",
    "    test_X[i] = X\n",
    "    test_Y[i] = Y\n",
    "    "
   ]
  },
  {
   "cell_type": "markdown",
   "metadata": {},
   "source": [
    "### Linear Regression by sklearn"
   ]
  },
  {
   "cell_type": "code",
   "execution_count": 19,
   "metadata": {},
   "outputs": [
    {
     "name": "stdout",
     "output_type": "stream",
     "text": [
      "2.029500965941119e-05\n"
     ]
    }
   ],
   "source": [
    "reg = LinearRegression().fit(train_X, train_Y)\n",
    "outcome = reg.predict(test_X)\n",
    "mean_l2_loss = np.linalg.norm((outcome - test_Y), axis=1).mean()\n",
    "print(mean_l2_loss)\n",
    "\n",
    "# Here we use the built-in score function to do the lasso and ridge regression, though I don't like it.\n",
    "# It seems that Linear regression has great performance for offline training.\n",
    "\n"
   ]
  },
  {
   "cell_type": "code",
   "execution_count": 22,
   "metadata": {},
   "outputs": [
    {
     "name": "stdout",
     "output_type": "stream",
     "text": [
      "The UN - truncated u has length:  34561\n",
      "The truncated u has length:  2021\n"
     ]
    }
   ],
   "source": [
    "torch.set_default_dtype(torch.float64)\n",
    "solver = adsolver.ADSolver(t_max=360*96*86400, w=3e-4)\n",
    "\n",
    "# Set up the linear regression model AX + B\n",
    "\n",
    "model = lambda x: torch.from_numpy(reg.coef_) @ x + torch.from_numpy(reg.intercept_)\n",
    "\n",
    "u = solver.solve(source_func=model)\n",
    "u = u.detach()\n",
    "print(\"The UN - truncated u has length: \", len(u))\n",
    "nan_boolean = torch.tensor([not u[i].isnan().any() for i in range(len(u))]) # Boolean array to detect where u blows up\n",
    "u = u[nan_boolean]\n",
    "\n",
    "print(\"The truncated u has length: \", len(u))\n",
    "solver.time = solver.time[nan_boolean]\n",
    "\n",
    "\n",
    "# amp25 = utils.estimate_amplitude(solver.time, solver.z, u, height=25e3, spinup=spinup_time)\n",
    "# amp20 = utils.estimate_amplitude(solver.time, solver.z, u, height=20e3, spinup=spinup_time)\n",
    "# tau25 = utils.estimate_period(solver.time, solver.z, u, height=25e3, spinup=spinup_time)"
   ]
  },
  {
   "cell_type": "markdown",
   "metadata": {},
   "source": [
    "While use it for online traning\n",
    "we can see it blows up after $\\tau=3000$. \n",
    "BAD online performance"
   ]
  },
  {
   "cell_type": "code",
   "execution_count": null,
   "metadata": {},
   "outputs": [],
   "source": []
  }
 ],
 "metadata": {
  "interpreter": {
   "hash": "830733ea9d918b531834fa8b8da0fcefcd54d93d922d0ee5d3d3c2269aa3eec6"
  },
  "kernelspec": {
   "display_name": "Python 3.8.8 ('py38')",
   "language": "python",
   "name": "python3"
  },
  "language_info": {
   "codemirror_mode": {
    "name": "ipython",
    "version": 3
   },
   "file_extension": ".py",
   "mimetype": "text/x-python",
   "name": "python",
   "nbconvert_exporter": "python",
   "pygments_lexer": "ipython3",
   "version": "3.8.8"
  },
  "orig_nbformat": 4
 },
 "nbformat": 4,
 "nbformat_minor": 2
}
