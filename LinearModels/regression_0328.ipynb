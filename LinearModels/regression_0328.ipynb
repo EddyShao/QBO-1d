{
 "cells": [
  {
   "cell_type": "code",
   "execution_count": 48,
   "metadata": {},
   "outputs": [
    {
     "name": "stdout",
     "output_type": "stream",
     "text": [
      "The autoreload extension is already loaded. To reload it, use:\n",
      "  %reload_ext autoreload\n"
     ]
    }
   ],
   "source": [
    "import numpy as np\n",
    "import matplotlib as mpl\n",
    "from matplotlib import pyplot as plt\n",
    "from matplotlib import colors\n",
    "from matplotlib.ticker import MultipleLocator\n",
    "import os.path\n",
    "from pathlib import Path\n",
    "import torch\n",
    "from torch import nn\n",
    "from torch.utils.data import Dataset, DataLoader\n",
    "\n",
    "from qbo1d import utils\n",
    "from qbo1d import adsolver\n",
    "from qbo1d import emulate\n",
    "from qbo1d.stochastic_forcing import WaveSpectrum\n",
    "\n",
    "from sklearn.linear_model import LinearRegression, Lasso, Ridge\n",
    "from sklearn.model_selection import train_test_split\n",
    "\n",
    "from sklearn.decomposition import PCA\n",
    "\n",
    "from qbo1d.stochastic_forcing import sample_sf_cw\n",
    "\n",
    "%load_ext autoreload\n",
    "%autoreload 2"
   ]
  },
  {
   "cell_type": "code",
   "execution_count": 3,
   "metadata": {},
   "outputs": [],
   "source": [
    "# utils for visulization\n",
    "def ax_pos_inch_to_absolute(fig_size, ax_pos_inch):\n",
    "    ax_pos_absolute = []\n",
    "    ax_pos_absolute.append(ax_pos_inch[0]/fig_size[0])\n",
    "    ax_pos_absolute.append(ax_pos_inch[1]/fig_size[1])\n",
    "    ax_pos_absolute.append(ax_pos_inch[2]/fig_size[0])\n",
    "    ax_pos_absolute.append(ax_pos_inch[3]/fig_size[1])\n",
    "    \n",
    "    return ax_pos_absolute"
   ]
  },
  {
   "cell_type": "markdown",
   "metadata": {},
   "source": [
    "# Solve the PDE using WaveSpectrum as the source function"
   ]
  },
  {
   "cell_type": "code",
   "execution_count": 4,
   "metadata": {},
   "outputs": [],
   "source": [
    "# Load the data manually\n",
    "# it takes 40 seconds\n",
    "\n",
    "t_max = 360 * 108 * 86400\n",
    "nsteps = 360 * 108\n",
    "nspinup = 360 * 12\n",
    "ntot = int(nsteps - nspinup)\n",
    "\n",
    "torch.set_default_dtype(torch.float64)\n",
    "\n",
    "\n",
    "# scenario 0 (control)\n",
    "# --------------------\n",
    "solver = adsolver.ADSolver(t_max=t_max, w=3e-4)\n",
    "model = WaveSpectrum(solver)\n",
    "time = solver.time\n",
    "z = solver.z\n",
    "u = solver.solve(source_func=model)\n",
    "\n",
    "\n"
   ]
  },
  {
   "cell_type": "code",
   "execution_count": 5,
   "metadata": {},
   "outputs": [],
   "source": [
    "# visualization\n",
    "spinup_time = 12*360*86400\n",
    "\n",
    "amp25 = utils.estimate_amplitude(solver.time, solver.z, u, height=25e3, spinup=spinup_time)\n",
    "amp20 = utils.estimate_amplitude(solver.time, solver.z, u, height=20e3, spinup=spinup_time)\n",
    "tau25 = utils.estimate_period(solver.time, solver.z, u, height=25e3, spinup=spinup_time)\n"
   ]
  },
  {
   "cell_type": "code",
   "execution_count": 6,
   "metadata": {},
   "outputs": [
    {
     "name": "stdout",
     "output_type": "stream",
     "text": [
      "tensor(33.7955)\n",
      "tensor(19.1060)\n",
      "tensor(25.8960)\n"
     ]
    }
   ],
   "source": [
    "print(amp25)\n",
    "print(amp20)\n",
    "print(tau25)"
   ]
  },
  {
   "cell_type": "markdown",
   "metadata": {},
   "source": [
    "## Visualization(Ground Truth)"
   ]
  },
  {
   "cell_type": "code",
   "execution_count": 7,
   "metadata": {},
   "outputs": [
    {
     "data": {
      "text/plain": [
       "<matplotlib.colorbar.Colorbar at 0x7fe6d3dd5760>"
      ]
     },
     "execution_count": 7,
     "metadata": {},
     "output_type": "execute_result"
    },
    {
     "data": {
      "image/png": "[encoded data removed]",
      "text/plain": [
       "<Figure size 496.8x266.4 with 2 Axes>"
      ]
     },
     "metadata": {
      "needs_background": "light"
     },
     "output_type": "display_data"
    }
   ],
   "source": [
    "fig_size = (06.90, 02.20+01.50)\n",
    "fig = plt.figure(figsize=fig_size)\n",
    "\n",
    "ax = []\n",
    "\n",
    "ax.append(fig.add_axes(ax_pos_inch_to_absolute(fig_size, [00.75, 01.25, 06.00, 02.00])))\n",
    "\n",
    "cmin = -u.abs().max()\n",
    "cmax = u.abs().max()\n",
    "\n",
    "xmin = 84.\n",
    "xmax = 96.\n",
    "ymin = 17.\n",
    "ymax = 35.\n",
    "\n",
    "ax[0].set_xlim(left=84.)\n",
    "ax[0].set_xlim(right=96.)\n",
    "ax[0].set_ylim(bottom=17.)\n",
    "ax[0].set_ylim(top=35.)\n",
    "\n",
    "h = []\n",
    "    \n",
    "h.append(ax[0].contourf(solver.time/86400/360, solver.z/1000, u.T,\n",
    "                        21, cmap=\"RdYlBu_r\", vmin=cmin, vmax=cmax))\n",
    "\n",
    "ax[0].axhline(25., xmin=0, xmax=1, color='white', linestyle='dashed', linewidth=1.)\n",
    "ax[0].axhline(20., xmin=0, xmax=1, color='white', linestyle='dashed', linewidth=1.)\n",
    "\n",
    "ax[0].set_ylabel('Km', fontsize=10)\n",
    "\n",
    "ax[0].set_xlabel('model year', fontsize=10)\n",
    "\n",
    "xticks_list = np.arange(xmin, xmax+1, 1)\n",
    "ax[0].set_xticks(xticks_list)\n",
    "\n",
    "yticks_list = np.arange(ymin, ymax+2, 2)\n",
    "ax[0].set_yticks(yticks_list)\n",
    "\n",
    "xticklabels_list = list(xticks_list)\n",
    "xticklabels_list = [ '%.0f' % elem for elem in xticklabels_list ]\n",
    "ax[0].set_xticklabels(xticklabels_list, fontsize=10)\n",
    "\n",
    "ax[0].xaxis.set_minor_locator(MultipleLocator(1.))\n",
    "ax[0].yaxis.set_minor_locator(MultipleLocator(1.))\n",
    "\n",
    "ax[0].tick_params(which='both', left=True, right=True, bottom=True, top=True)\n",
    "ax[0].tick_params(which='both', labelbottom=True)\n",
    "\n",
    "ax[0].text(95.50, 25, r'$\\sigma_{25}$ = ' '%.1f' %amp25 + r'$\\mathrm{m s^{-1}}$',\n",
    "              horizontalalignment='right', verticalalignment='bottom', color='black')\n",
    "\n",
    "ax[0].text(95.50, 20, r'$\\sigma_{20}$ = ' '%.1f' %amp20 + r'$\\mathrm{m s^{-1}}$',\n",
    "              horizontalalignment='right', verticalalignment='bottom', color='black')\n",
    "\n",
    "ax[0].text(84.50, 25, r'$\\tau_{25}$ = ' '%.0f' %tau25 + 'months',\n",
    "              horizontalalignment='left', verticalalignment='bottom', color='black')\n",
    "\n",
    "# # colorbars\n",
    "cbar_ax0 = fig.add_axes(ax_pos_inch_to_absolute(fig_size, [01.00, 00.50, 05.50, 00.10])) \n",
    "ax[0].figure.colorbar(plt.cm.ScalarMappable(cmap=\"RdYlBu_r\"), cax=cbar_ax0, format='% 2.0f', \n",
    "                      boundaries=np.linspace(cmin, cmax, 21), orientation='horizontal',\n",
    "                      label=r'$\\mathrm{m s^{-1}}$')\n"
   ]
  },
  {
   "cell_type": "markdown",
   "metadata": {},
   "source": [
    "## Prepare for the data"
   ]
  },
  {
   "cell_type": "markdown",
   "metadata": {},
   "source": [
    "### Here we only use $u$ without concatnating $sf$ and $cw$"
   ]
  },
  {
   "cell_type": "code",
   "execution_count": 8,
   "metadata": {},
   "outputs": [],
   "source": [
    "U = u[nspinup:nsteps, :]\n",
    "s = model.s\n",
    "s = s[nspinup:nsteps, :]\n",
    "\n",
    "# Here U is the features and s is the label\n",
    "\n",
    "U_train, U_test, s_train, s_test = train_test_split(U, s, test_size=0.2, random_state=42)"
   ]
  },
  {
   "cell_type": "code",
   "execution_count": 9,
   "metadata": {},
   "outputs": [
    {
     "data": {
      "image/png": "[encoded data removed]",
      "text/plain": [
       "<Figure size 432x288 with 1 Axes>"
      ]
     },
     "metadata": {
      "needs_background": "light"
     },
     "output_type": "display_data"
    }
   ],
   "source": [
    "mean = U_train.mean(axis=0)\n",
    "std = U_train.std(axis=0)\n",
    "plt.bar(list(range(len(mean))), mean)\n",
    "plt.title(\"The mean of zonal wind at each vertical coordinate level\")\n",
    "plt.show()\n",
    "# This plot makes a lot of sense...\n",
    "# Really makes sense...\n"
   ]
  },
  {
   "cell_type": "markdown",
   "metadata": {},
   "source": [
    "# Linear Regression on $u$ (By sklearn)"
   ]
  },
  {
   "cell_type": "code",
   "execution_count": 47,
   "metadata": {},
   "outputs": [
    {
     "name": "stdout",
     "output_type": "stream",
     "text": [
      "The loss of the linear regression: 2.771425839605591e-05\n",
      "R-squared: 0.895522434\n"
     ]
    }
   ],
   "source": [
    "reg = LinearRegression().fit(U_train, s_train)\n",
    "prediction = reg.predict(U_test)\n",
    "mean_l2_loss = np.linalg.norm((prediction - s_test.numpy()), axis=1).mean()\n",
    "print(f\"The loss of the linear regression: {mean_l2_loss}\")\n",
    "print(f\"R-squared: {reg.score(U_test, s_test):.9f}\")"
   ]
  },
  {
   "cell_type": "markdown",
   "metadata": {},
   "source": [
    "## ONLINE testing"
   ]
  },
  {
   "cell_type": "code",
   "execution_count": 11,
   "metadata": {},
   "outputs": [
    {
     "name": "stdout",
     "output_type": "stream",
     "text": [
      "The UN - truncated u has length:  34561\n",
      "The truncated u has length:  34561\n"
     ]
    }
   ],
   "source": [
    "torch.set_default_dtype(torch.float64)\n",
    "solver_ML = adsolver.ADSolver(t_max=360*96*86400, w=3e-4)\n",
    "\n",
    "# Set up the linear model to pass in the PDE\n",
    "model_ML = lambda x : torch.tensor(reg.coef_) @ x + torch.tensor(reg.intercept_)\n",
    "\n",
    "\n",
    "u_ML = solver_ML.solve(source_func=model_ML)\n",
    "u_ML = u_ML.detach()\n",
    "\n",
    "print(\"The UN - truncated u has length: \", len(u_ML))\n",
    "nan_boolean = torch.tensor([not u_ML[i].isnan().any() for i in range(len(u_ML))]) # Boolean array to detect where u blows up\n",
    "u_ML = u_ML[nan_boolean]\n",
    "print(\"The truncated u has length: \", len(u_ML))"
   ]
  },
  {
   "cell_type": "code",
   "execution_count": 12,
   "metadata": {},
   "outputs": [],
   "source": [
    "spinup_time = 12*360*86400\n",
    "\n",
    "amp25_ML = utils.estimate_amplitude(solver_ML.time, solver_ML.z, u_ML, height=25e3, spinup=spinup_time)\n",
    "amp20_ML = utils.estimate_amplitude(solver_ML.time, solver_ML.z, u_ML, height=20e3, spinup=spinup_time)\n",
    "tau25_ML = utils.estimate_period(solver_ML.time, solver_ML.z, u_ML, height=25e3, spinup=spinup_time)"
   ]
  },
  {
   "cell_type": "markdown",
   "metadata": {},
   "source": [
    "### Visualization(ML)"
   ]
  },
  {
   "cell_type": "code",
   "execution_count": 13,
   "metadata": {},
   "outputs": [
    {
     "data": {
      "text/plain": [
       "<matplotlib.colorbar.Colorbar at 0x7fe6f0389cd0>"
      ]
     },
     "execution_count": 13,
     "metadata": {},
     "output_type": "execute_result"
    },
    {
     "data": {
      "image/png": "[encoded data removed]",
      "text/plain": [
       "<Figure size 496.8x266.4 with 2 Axes>"
      ]
     },
     "metadata": {
      "needs_background": "light"
     },
     "output_type": "display_data"
    }
   ],
   "source": [
    "fig_size = (06.90, 02.20+01.50)\n",
    "fig = plt.figure(figsize=fig_size)\n",
    "\n",
    "ax = []\n",
    "\n",
    "ax.append(fig.add_axes(ax_pos_inch_to_absolute(fig_size, [00.75, 01.25, 06.00, 02.00])))\n",
    "\n",
    "cmin = -u_ML.abs().max()\n",
    "cmax = u_ML.abs().max()\n",
    "\n",
    "xmin = 84.\n",
    "xmax = 96.\n",
    "ymin = 17.\n",
    "ymax = 35.\n",
    "\n",
    "ax[0].set_xlim(left=84.)\n",
    "ax[0].set_xlim(right=96.)\n",
    "ax[0].set_ylim(bottom=17.)\n",
    "ax[0].set_ylim(top=35.)\n",
    "\n",
    "h = []\n",
    "    \n",
    "h.append(ax[0].contourf(solver_ML.time/86400/360, solver_ML.z/1000, u_ML.T,\n",
    "                        21, cmap=\"RdYlBu_r\", vmin=cmin, vmax=cmax))\n",
    "\n",
    "ax[0].axhline(25., xmin=0, xmax=1, color='white', linestyle='dashed', linewidth=1.)\n",
    "ax[0].axhline(20., xmin=0, xmax=1, color='white', linestyle='dashed', linewidth=1.)\n",
    "\n",
    "ax[0].set_ylabel('Km', fontsize=10)\n",
    "\n",
    "ax[0].set_xlabel('model year', fontsize=10)\n",
    "\n",
    "xticks_list = np.arange(xmin, xmax+1, 1)\n",
    "ax[0].set_xticks(xticks_list)\n",
    "\n",
    "yticks_list = np.arange(ymin, ymax+2, 2)\n",
    "ax[0].set_yticks(yticks_list)\n",
    "\n",
    "xticklabels_list = list(xticks_list)\n",
    "xticklabels_list = [ '%.0f' % elem for elem in xticklabels_list ]\n",
    "ax[0].set_xticklabels(xticklabels_list, fontsize=10)\n",
    "\n",
    "ax[0].xaxis.set_minor_locator(MultipleLocator(1.))\n",
    "ax[0].yaxis.set_minor_locator(MultipleLocator(1.))\n",
    "\n",
    "ax[0].tick_params(which='both', left=True, right=True, bottom=True, top=True)\n",
    "ax[0].tick_params(which='both', labelbottom=True)\n",
    "\n",
    "ax[0].text(95.50, 25, r'$\\sigma_{25}$ = ' '%.1f' %amp25_ML + r'$\\mathrm{m s^{-1}}$',\n",
    "              horizontalalignment='right', verticalalignment='bottom', color='black')\n",
    "\n",
    "ax[0].text(95.50, 20, r'$\\sigma_{20}$ = ' '%.1f' %amp20_ML + r'$\\mathrm{m s^{-1}}$',\n",
    "              horizontalalignment='right', verticalalignment='bottom', color='black')\n",
    "\n",
    "ax[0].text(84.50, 25, r'$\\tau_{25}$ = ' '%.0f' %tau25_ML + 'months',\n",
    "              horizontalalignment='left', verticalalignment='bottom', color='black')\n",
    "\n",
    "# # colorbars\n",
    "cbar_ax0 = fig.add_axes(ax_pos_inch_to_absolute(fig_size, [01.00, 00.50, 05.50, 00.10])) \n",
    "ax[0].figure.colorbar(plt.cm.ScalarMappable(cmap=\"RdYlBu_r\"), cax=cbar_ax0, format='% 2.0f', \n",
    "                      boundaries=np.linspace(cmin, cmax, 21), orientation='horizontal',\n",
    "                      label=r'$\\mathrm{m s^{-1}}$')\n"
   ]
  },
  {
   "cell_type": "markdown",
   "metadata": {},
   "source": [
    "* The period is miraculously CORRECT... \n",
    "* The amplitude is not correct"
   ]
  },
  {
   "cell_type": "markdown",
   "metadata": {},
   "source": [
    "# Linear Regression on $(u, sf, cw)$"
   ]
  },
  {
   "cell_type": "markdown",
   "metadata": {},
   "source": [
    "## Prepare for the data"
   ]
  },
  {
   "cell_type": "code",
   "execution_count": 53,
   "metadata": {},
   "outputs": [
    {
     "name": "stdout",
     "output_type": "stream",
     "text": [
      "tensor([0.0007, 0.1986])\n",
      "tensor([[0.0007, 0.0090],\n",
      "        [0.0090, 0.1986]])\n",
      "tensor([-5.5998,  3.3664])\n"
     ]
    }
   ],
   "source": [
    "# Load the data manually\n",
    "# it takes 40 seconds\n",
    "\n",
    "t_max = 360 * 108 * 86400\n",
    "nsteps = 360 * 108\n",
    "nspinup = 360 * 12\n",
    "ntot = int(nsteps - nspinup)\n",
    "\n",
    "torch.set_default_dtype(torch.float64)\n",
    "\n",
    "\n",
    "# scenario 0 (control)\n",
    "# --------------------\n",
    "solver = adsolver.ADSolver(t_max=t_max, w=3e-4)\n",
    "model = WaveSpectrum(solver)\n",
    "time = solver.time\n",
    "z = solver.z\n",
    "u = solver.solve(source_func=model)\n",
    "cw, sf = model.cw, model.sf\n"
   ]
  },
  {
   "cell_type": "code",
   "execution_count": 50,
   "metadata": {},
   "outputs": [
    {
     "ename": "RuntimeError",
     "evalue": "Sizes of tensors must match except in dimension 1. Expected size 34560 but got size 30240 for tensor number 1 in the list.",
     "output_type": "error",
     "traceback": [
      "\u001b[0;31m---------------------------------------------------------------------------\u001b[0m",
      "\u001b[0;31mRuntimeError\u001b[0m                              Traceback (most recent call last)",
      "\u001b[0;32m<ipython-input-50-6dab32b90ca8>\u001b[0m in \u001b[0;36m<module>\u001b[0;34m\u001b[0m\n\u001b[1;32m      6\u001b[0m \u001b[0ms\u001b[0m \u001b[0;34m=\u001b[0m \u001b[0ms\u001b[0m\u001b[0;34m[\u001b[0m\u001b[0mnspinup\u001b[0m\u001b[0;34m:\u001b[0m\u001b[0mnsteps\u001b[0m\u001b[0;34m,\u001b[0m \u001b[0;34m:\u001b[0m\u001b[0;34m]\u001b[0m\u001b[0;34m\u001b[0m\u001b[0;34m\u001b[0m\u001b[0m\n\u001b[1;32m      7\u001b[0m \u001b[0;34m\u001b[0m\u001b[0m\n\u001b[0;32m----> 8\u001b[0;31m \u001b[0mU\u001b[0m \u001b[0;34m=\u001b[0m \u001b[0mtorch\u001b[0m\u001b[0;34m.\u001b[0m\u001b[0mhstack\u001b[0m\u001b[0;34m(\u001b[0m\u001b[0;34m[\u001b[0m\u001b[0mu\u001b[0m\u001b[0;34m,\u001b[0m \u001b[0msf\u001b[0m\u001b[0;34m.\u001b[0m\u001b[0mview\u001b[0m\u001b[0;34m(\u001b[0m\u001b[0;34m-\u001b[0m\u001b[0;36m1\u001b[0m\u001b[0;34m,\u001b[0m \u001b[0;36m1\u001b[0m\u001b[0;34m)\u001b[0m\u001b[0;34m,\u001b[0m \u001b[0mcw\u001b[0m\u001b[0;34m.\u001b[0m\u001b[0mview\u001b[0m\u001b[0;34m(\u001b[0m\u001b[0;34m-\u001b[0m\u001b[0;36m1\u001b[0m\u001b[0;34m,\u001b[0m \u001b[0;36m1\u001b[0m\u001b[0;34m)\u001b[0m\u001b[0;34m]\u001b[0m\u001b[0;34m)\u001b[0m\u001b[0;34m\u001b[0m\u001b[0;34m\u001b[0m\u001b[0m\n\u001b[0m\u001b[1;32m      9\u001b[0m \u001b[0mprint\u001b[0m\u001b[0;34m(\u001b[0m\u001b[0;34mf\"The shape of data U is {U.shape}\"\u001b[0m\u001b[0;34m)\u001b[0m\u001b[0;34m\u001b[0m\u001b[0;34m\u001b[0m\u001b[0m\n\u001b[1;32m     10\u001b[0m \u001b[0;34m\u001b[0m\u001b[0m\n",
      "\u001b[0;31mRuntimeError\u001b[0m: Sizes of tensors must match except in dimension 1. Expected size 34560 but got size 30240 for tensor number 1 in the list."
     ]
    }
   ],
   "source": [
    "cw = cw[nspinup:nsteps]\n",
    "sf = sf[nspinup:nsteps]\n",
    "u = u[nspinup:nsteps, :]\n",
    "\n",
    "s = model.s\n",
    "s = s[nspinup:nsteps, :]\n",
    "\n",
    "U = torch.hstack([u, sf.view(-1, 1), cw.view(-1, 1)])\n",
    "print(f\"The shape of data U is {U.shape}\")\n",
    "\n",
    "\n",
    "# Here U is the features and s is the label\n",
    "\n",
    "U_train, U_test, s_train, s_test = train_test_split(U, s, test_size=0.2, random_state=42)"
   ]
  },
  {
   "cell_type": "code",
   "execution_count": 46,
   "metadata": {},
   "outputs": [
    {
     "name": "stdout",
     "output_type": "stream",
     "text": [
      "The loss of the linear regression: 2.771425839605591e-05\n",
      "R-squared: 0.895522434\n"
     ]
    }
   ],
   "source": [
    "# Though it may be clear to do the linear regression manually\n",
    "# But the runtime of sklearn is optimal\n",
    "reg = LinearRegression().fit(U_train, s_train)\n",
    "prediction = reg.predict(U_test)\n",
    "mean_l2_loss = np.linalg.norm((prediction - s_test.numpy()), axis=1).mean()\n",
    "print(f\"The loss of the linear regression: {mean_l2_loss}\")\n",
    "print(f\"R-squared: {reg.score(U_test, s_test):.9f}\")\n",
    "\n"
   ]
  },
  {
   "cell_type": "markdown",
   "metadata": {},
   "source": [
    "The loss and R-squared is similar to $U = u$"
   ]
  },
  {
   "cell_type": "markdown",
   "metadata": {},
   "source": [
    "## ONLINE testing"
   ]
  },
  {
   "cell_type": "code",
   "execution_count": 49,
   "metadata": {},
   "outputs": [
    {
     "name": "stdout",
     "output_type": "stream",
     "text": [
      "tensor([0.0007, 0.1986])\n"
     ]
    },
    {
     "ename": "RuntimeError",
     "evalue": "size mismatch, got 73, 73x73,75",
     "output_type": "error",
     "traceback": [
      "\u001b[0;31m---------------------------------------------------------------------------\u001b[0m",
      "\u001b[0;31mRuntimeError\u001b[0m                              Traceback (most recent call last)",
      "\u001b[0;32m<ipython-input-49-2a87755ca315>\u001b[0m in \u001b[0;36m<module>\u001b[0;34m\u001b[0m\n\u001b[1;32m      9\u001b[0m \u001b[0;34m\u001b[0m\u001b[0m\n\u001b[1;32m     10\u001b[0m \u001b[0;34m\u001b[0m\u001b[0m\n\u001b[0;32m---> 11\u001b[0;31m \u001b[0mu_ML\u001b[0m \u001b[0;34m=\u001b[0m \u001b[0msolver_ML\u001b[0m\u001b[0;34m.\u001b[0m\u001b[0msolve\u001b[0m\u001b[0;34m(\u001b[0m\u001b[0msource_func\u001b[0m\u001b[0;34m=\u001b[0m\u001b[0mmodel_ML_aug\u001b[0m\u001b[0;34m)\u001b[0m\u001b[0;34m\u001b[0m\u001b[0;34m\u001b[0m\u001b[0m\n\u001b[0m\u001b[1;32m     12\u001b[0m \u001b[0mu_ML\u001b[0m \u001b[0;34m=\u001b[0m \u001b[0mu_ML\u001b[0m\u001b[0;34m.\u001b[0m\u001b[0mdetach\u001b[0m\u001b[0;34m(\u001b[0m\u001b[0;34m)\u001b[0m\u001b[0;34m\u001b[0m\u001b[0;34m\u001b[0m\u001b[0m\n\u001b[1;32m     13\u001b[0m \u001b[0;34m\u001b[0m\u001b[0m\n",
      "\u001b[0;32m~/Desktop/QBO-Research/qbo1d/qbo1d/adsolver.py\u001b[0m in \u001b[0;36msolve\u001b[0;34m(self, nsteps, source_func)\u001b[0m\n\u001b[1;32m    126\u001b[0m \u001b[0;34m\u001b[0m\u001b[0m\n\u001b[1;32m    127\u001b[0m \u001b[0;34m\u001b[0m\u001b[0m\n\u001b[0;32m--> 128\u001b[0;31m         \u001b[0msource\u001b[0m \u001b[0;34m=\u001b[0m \u001b[0msource_func\u001b[0m\u001b[0;34m(\u001b[0m\u001b[0mu\u001b[0m\u001b[0;34m[\u001b[0m\u001b[0;36m0\u001b[0m\u001b[0;34m]\u001b[0m\u001b[0;34m)\u001b[0m\u001b[0;34m\u001b[0m\u001b[0;34m\u001b[0m\u001b[0m\n\u001b[0m\u001b[1;32m    129\u001b[0m         u[1] = (torch.matmul(torch.eye(self.nlev) - self.D, u[0]) -\n\u001b[1;32m    130\u001b[0m         self.dt * source)\n",
      "\u001b[0;32m<ipython-input-49-2a87755ca315>\u001b[0m in \u001b[0;36m<lambda>\u001b[0;34m(x)\u001b[0m\n\u001b[1;32m      6\u001b[0m \u001b[0msf_ML\u001b[0m\u001b[0;34m,\u001b[0m \u001b[0mcw_ML\u001b[0m \u001b[0;34m=\u001b[0m \u001b[0msample_sf_cw\u001b[0m\u001b[0;34m(\u001b[0m\u001b[0msolver_ML\u001b[0m\u001b[0;34m.\u001b[0m\u001b[0mtime\u001b[0m\u001b[0;34m.\u001b[0m\u001b[0mshape\u001b[0m\u001b[0;34m[\u001b[0m\u001b[0;36m0\u001b[0m\u001b[0;34m]\u001b[0m\u001b[0;34m,\u001b[0m \u001b[0msfe\u001b[0m\u001b[0;34m=\u001b[0m\u001b[0;36m3.7e-3\u001b[0m\u001b[0;34m,\u001b[0m \u001b[0msfv\u001b[0m\u001b[0;34m=\u001b[0m\u001b[0;36m1e-8\u001b[0m\u001b[0;34m,\u001b[0m \u001b[0mcwe\u001b[0m\u001b[0;34m=\u001b[0m\u001b[0;36m32\u001b[0m\u001b[0;34m,\u001b[0m \u001b[0mcwv\u001b[0m\u001b[0;34m=\u001b[0m\u001b[0;36m225\u001b[0m\u001b[0;34m,\u001b[0m \u001b[0mcorr\u001b[0m\u001b[0;34m=\u001b[0m\u001b[0;36m0.75\u001b[0m\u001b[0;34m,\u001b[0m \u001b[0mseed\u001b[0m\u001b[0;34m=\u001b[0m\u001b[0mint\u001b[0m\u001b[0;34m(\u001b[0m\u001b[0;36m21\u001b[0m\u001b[0;34m*\u001b[0m\u001b[0;36m9\u001b[0m\u001b[0;34m+\u001b[0m\u001b[0;36m8\u001b[0m\u001b[0;34m)\u001b[0m\u001b[0;34m)\u001b[0m\u001b[0;34m\u001b[0m\u001b[0;34m\u001b[0m\u001b[0m\n\u001b[1;32m      7\u001b[0m \u001b[0;34m\u001b[0m\u001b[0m\n\u001b[0;32m----> 8\u001b[0;31m \u001b[0mmodel_ML_aug\u001b[0m \u001b[0;34m=\u001b[0m \u001b[0;32mlambda\u001b[0m \u001b[0mx\u001b[0m \u001b[0;34m:\u001b[0m \u001b[0mtorch\u001b[0m\u001b[0;34m.\u001b[0m\u001b[0mtensor\u001b[0m\u001b[0;34m(\u001b[0m\u001b[0mreg\u001b[0m\u001b[0;34m.\u001b[0m\u001b[0mcoef_\u001b[0m\u001b[0;34m)\u001b[0m \u001b[0;34m@\u001b[0m \u001b[0mtorch\u001b[0m\u001b[0;34m.\u001b[0m\u001b[0mhstack\u001b[0m\u001b[0;34m(\u001b[0m\u001b[0;34m[\u001b[0m\u001b[0mx\u001b[0m\u001b[0;34m,\u001b[0m \u001b[0msf\u001b[0m\u001b[0;34m[\u001b[0m\u001b[0msolver_ML\u001b[0m\u001b[0;34m.\u001b[0m\u001b[0mcurrent_step\u001b[0m\u001b[0;34m]\u001b[0m\u001b[0;34m,\u001b[0m \u001b[0mcw\u001b[0m\u001b[0;34m[\u001b[0m\u001b[0msolver_ML\u001b[0m\u001b[0;34m.\u001b[0m\u001b[0mcurrent_step\u001b[0m\u001b[0;34m]\u001b[0m\u001b[0;34m]\u001b[0m\u001b[0;34m)\u001b[0m \u001b[0;34m+\u001b[0m \u001b[0mtorch\u001b[0m\u001b[0;34m.\u001b[0m\u001b[0mtensor\u001b[0m\u001b[0;34m(\u001b[0m\u001b[0mreg\u001b[0m\u001b[0;34m.\u001b[0m\u001b[0mintercept_\u001b[0m\u001b[0;34m)\u001b[0m\u001b[0;34m\u001b[0m\u001b[0;34m\u001b[0m\u001b[0m\n\u001b[0m\u001b[1;32m      9\u001b[0m \u001b[0;34m\u001b[0m\u001b[0m\n\u001b[1;32m     10\u001b[0m \u001b[0;34m\u001b[0m\u001b[0m\n",
      "\u001b[0;31mRuntimeError\u001b[0m: size mismatch, got 73, 73x73,75"
     ]
    }
   ],
   "source": [
    "torch.set_default_dtype(torch.float64)\n",
    "solver_ML = adsolver.ADSolver(t_max=360*96*86400, w=3e-4)\n",
    "\n",
    "# Set up the linear model to pass in the PDE\n",
    "\n",
    "sf_ML, cw_ML = sample_sf_cw(solver_ML.time.shape[0], sfe=3.7e-3, sfv=1e-8, cwe=32, cwv=225, corr=0.75, seed=int(21*9+8))\n",
    "\n",
    "model_ML_aug = lambda x : torch.tensor(reg.coef_) @ torch.hstack([x, sf[solver_ML.current_step], cw[solver_ML.current_step]]) + torch.tensor(reg.intercept_)\n",
    "\n",
    "\n",
    "u_ML = solver_ML.solve(source_func=model_ML_aug)\n",
    "u_ML = u_ML.detach()\n",
    "\n",
    "print(\"The UN - truncated u has length: \", len(u_ML))\n",
    "nan_boolean = torch.tensor([not u_ML[i].isnan().any() for i in range(len(u_ML))]) # Boolean array to detect where u blows up\n",
    "u_ML = u_ML[nan_boolean]\n",
    "print(\"The truncated u has length: \", len(u_ML))"
   ]
  },
  {
   "cell_type": "code",
   "execution_count": 18,
   "metadata": {},
   "outputs": [],
   "source": [
    "spinup_time = 12*360*86400\n",
    "\n",
    "amp25_ML = utils.estimate_amplitude(solver_ML.time, solver_ML.z, u_ML, height=25e3, spinup=spinup_time)\n",
    "amp20_ML = utils.estimate_amplitude(solver_ML.time, solver_ML.z, u_ML, height=20e3, spinup=spinup_time)\n",
    "tau25_ML = utils.estimate_period(solver_ML.time, solver_ML.z, u_ML, height=25e3, spinup=spinup_time)"
   ]
  },
  {
   "cell_type": "code",
   "execution_count": 19,
   "metadata": {},
   "outputs": [
    {
     "data": {
      "text/plain": [
       "<matplotlib.colorbar.Colorbar at 0x7fe6b1ebad00>"
      ]
     },
     "execution_count": 19,
     "metadata": {},
     "output_type": "execute_result"
    },
    {
     "data": {
      "image/png": "[encoded data removed]",
      "text/plain": [
       "<Figure size 496.8x266.4 with 2 Axes>"
      ]
     },
     "metadata": {
      "needs_background": "light"
     },
     "output_type": "display_data"
    }
   ],
   "source": [
    "fig_size = (06.90, 02.20+01.50)\n",
    "fig = plt.figure(figsize=fig_size)\n",
    "\n",
    "ax = []\n",
    "\n",
    "ax.append(fig.add_axes(ax_pos_inch_to_absolute(fig_size, [00.75, 01.25, 06.00, 02.00])))\n",
    "\n",
    "cmin = -u_ML.abs().max()\n",
    "cmax = u_ML.abs().max()\n",
    "\n",
    "xmin = 84.\n",
    "xmax = 96.\n",
    "ymin = 17.\n",
    "ymax = 35.\n",
    "\n",
    "ax[0].set_xlim(left=84.)\n",
    "ax[0].set_xlim(right=96.)\n",
    "ax[0].set_ylim(bottom=17.)\n",
    "ax[0].set_ylim(top=35.)\n",
    "\n",
    "h = []\n",
    "    \n",
    "h.append(ax[0].contourf(solver_ML.time/86400/360, solver_ML.z/1000, u_ML.T,\n",
    "                        21, cmap=\"RdYlBu_r\", vmin=cmin, vmax=cmax))\n",
    "\n",
    "ax[0].axhline(25., xmin=0, xmax=1, color='white', linestyle='dashed', linewidth=1.)\n",
    "ax[0].axhline(20., xmin=0, xmax=1, color='white', linestyle='dashed', linewidth=1.)\n",
    "\n",
    "ax[0].set_ylabel('Km', fontsize=10)\n",
    "\n",
    "ax[0].set_xlabel('model year', fontsize=10)\n",
    "\n",
    "xticks_list = np.arange(xmin, xmax+1, 1)\n",
    "ax[0].set_xticks(xticks_list)\n",
    "\n",
    "yticks_list = np.arange(ymin, ymax+2, 2)\n",
    "ax[0].set_yticks(yticks_list)\n",
    "\n",
    "xticklabels_list = list(xticks_list)\n",
    "xticklabels_list = [ '%.0f' % elem for elem in xticklabels_list ]\n",
    "ax[0].set_xticklabels(xticklabels_list, fontsize=10)\n",
    "\n",
    "ax[0].xaxis.set_minor_locator(MultipleLocator(1.))\n",
    "ax[0].yaxis.set_minor_locator(MultipleLocator(1.))\n",
    "\n",
    "ax[0].tick_params(which='both', left=True, right=True, bottom=True, top=True)\n",
    "ax[0].tick_params(which='both', labelbottom=True)\n",
    "\n",
    "ax[0].text(95.50, 25, r'$\\sigma_{25}$ = ' '%.1f' %amp25_ML + r'$\\mathrm{m s^{-1}}$',\n",
    "              horizontalalignment='right', verticalalignment='bottom', color='black')\n",
    "\n",
    "ax[0].text(95.50, 20, r'$\\sigma_{20}$ = ' '%.1f' %amp20_ML + r'$\\mathrm{m s^{-1}}$',\n",
    "              horizontalalignment='right', verticalalignment='bottom', color='black')\n",
    "\n",
    "ax[0].text(84.50, 25, r'$\\tau_{25}$ = ' '%.0f' %tau25_ML + 'months',\n",
    "              horizontalalignment='left', verticalalignment='bottom', color='black')\n",
    "\n",
    "#  colorbars\n",
    "cbar_ax0 = fig.add_axes(ax_pos_inch_to_absolute(fig_size, [01.00, 00.50, 05.50, 00.10])) \n",
    "ax[0].figure.colorbar(plt.cm.ScalarMappable(cmap=\"RdYlBu_r\"), cax=cbar_ax0, format='% 2.0f', \n",
    "                      boundaries=np.linspace(cmin, cmax, 21), orientation='horizontal',\n",
    "                      label=r'$\\mathrm{m s^{-1}}$')"
   ]
  },
  {
   "cell_type": "markdown",
   "metadata": {},
   "source": [
    "# Try normalization"
   ]
  },
  {
   "cell_type": "markdown",
   "metadata": {},
   "source": [
    "I tried but it doesn't work well"
   ]
  },
  {
   "cell_type": "code",
   "execution_count": 20,
   "metadata": {},
   "outputs": [],
   "source": [
    "# Load the data manually\n",
    "# it takes 40 seconds\n",
    "\n",
    "t_max = 360 * 108 * 86400\n",
    "nsteps = 360 * 108\n",
    "nspinup = 360 * 12\n",
    "ntot = int(nsteps - nspinup)\n",
    "\n",
    "torch.set_default_dtype(torch.float64)\n",
    "\n",
    "\n",
    "# scenario 0 (control)\n",
    "# --------------------\n",
    "solver = adsolver.ADSolver(t_max=t_max, w=3e-4)\n",
    "model = WaveSpectrum(solver)\n",
    "time = solver.time\n",
    "z = solver.z\n",
    "u = solver.solve(source_func=model)\n"
   ]
  },
  {
   "cell_type": "code",
   "execution_count": 21,
   "metadata": {},
   "outputs": [],
   "source": [
    "U = u[nspinup:nsteps, :]\n",
    "s = model.s\n",
    "s = s[nspinup:nsteps, :]\n",
    "\n",
    "# Here U is the features and s is the label\n",
    "\n",
    "U_train, U_test, s_train, s_test = train_test_split(U, s, test_size=0.2, random_state=42)"
   ]
  },
  {
   "cell_type": "code",
   "execution_count": 22,
   "metadata": {},
   "outputs": [],
   "source": [
    "mean_U_train = U_train.mean(axis=0)\n",
    "std_U_train = U_train.std(axis=0) + 1e-32 # avoid dividing by 0\n",
    "normalized_U_train = (U_train - mean_U_train)/std_U_train\n",
    "normalized_U_test = (U_test - mean_U_train)/std_U_train"
   ]
  },
  {
   "cell_type": "code",
   "execution_count": 23,
   "metadata": {},
   "outputs": [
    {
     "name": "stdout",
     "output_type": "stream",
     "text": [
      "THe loss of the linear regression: 2.7935106249965368e-05\n",
      "R-squared: 0.894\n"
     ]
    }
   ],
   "source": [
    "reg = Ridge(alpha=1).fit(normalized_U_train, s_train)\n",
    "prediction = reg.predict(normalized_U_test)\n",
    "mean_l2_loss = np.linalg.norm((prediction - s_test.numpy()), axis=1).mean()\n",
    "print(f\"THe loss of the linear regression: {mean_l2_loss}\")\n",
    "print(f\"R-squared: {reg.score(normalized_U_test, s_test):.3f}\")"
   ]
  },
  {
   "cell_type": "markdown",
   "metadata": {},
   "source": [
    "## Online Testing"
   ]
  },
  {
   "cell_type": "code",
   "execution_count": 24,
   "metadata": {},
   "outputs": [
    {
     "name": "stdout",
     "output_type": "stream",
     "text": [
      "The UN - truncated u has length:  34561\n",
      "The truncated u has length:  34561\n"
     ]
    }
   ],
   "source": [
    "torch.set_default_dtype(torch.float64)\n",
    "solver_ML = adsolver.ADSolver(t_max=360*96*86400, w=3e-4)\n",
    "\n",
    "\n",
    "def model_ML_norm(x):\n",
    "    \"\"\"\n",
    "    Input: x, expected (73,) tensor\n",
    "    Output: s, expected(73,) tensor\n",
    "    \"\"\"\n",
    "\n",
    "    normed_x = (x - mean_U_train)/std_U_train\n",
    "    \n",
    "    return torch.tensor(reg.coef_) @ normed_x + torch.tensor(reg.intercept_)\n",
    "    \n",
    "\n",
    "\n",
    "u_ML = solver_ML.solve(source_func=model_ML_norm)\n",
    "u_ML = u_ML.detach()\n",
    "\n",
    "print(\"The UN - truncated u has length: \", len(u_ML))\n",
    "nan_boolean = torch.tensor([not u_ML[i].isnan().any() for i in range(len(u_ML))]) # Boolean array to detect where u blows up\n",
    "u_ML = u_ML[nan_boolean]\n",
    "print(\"The truncated u has length: \", len(u_ML))"
   ]
  },
  {
   "cell_type": "code",
   "execution_count": 25,
   "metadata": {},
   "outputs": [],
   "source": [
    "spinup_time = 12*360*86400\n",
    "\n",
    "amp25_ML = utils.estimate_amplitude(solver_ML.time, solver_ML.z, u_ML, height=25e3, spinup=spinup_time)\n",
    "amp20_ML = utils.estimate_amplitude(solver_ML.time, solver_ML.z, u_ML, height=20e3, spinup=spinup_time)\n",
    "tau25_ML = utils.estimate_period(solver_ML.time, solver_ML.z, u_ML, height=25e3, spinup=spinup_time)"
   ]
  },
  {
   "cell_type": "code",
   "execution_count": 26,
   "metadata": {},
   "outputs": [
    {
     "data": {
      "text/plain": [
       "<matplotlib.colorbar.Colorbar at 0x7fe6b21b9d30>"
      ]
     },
     "execution_count": 26,
     "metadata": {},
     "output_type": "execute_result"
    },
    {
     "data": {
      "image/png": "[encoded data removed]",
      "text/plain": [
       "<Figure size 496.8x266.4 with 2 Axes>"
      ]
     },
     "metadata": {
      "needs_background": "light"
     },
     "output_type": "display_data"
    }
   ],
   "source": [
    "fig_size = (06.90, 02.20+01.50)\n",
    "fig = plt.figure(figsize=fig_size)\n",
    "\n",
    "ax = []\n",
    "\n",
    "ax.append(fig.add_axes(ax_pos_inch_to_absolute(fig_size, [00.75, 01.25, 06.00, 02.00])))\n",
    "\n",
    "cmin = -u_ML.abs().max()\n",
    "cmax = u_ML.abs().max()\n",
    "\n",
    "xmin = 84.\n",
    "xmax = 96.\n",
    "ymin = 17.\n",
    "ymax = 35.\n",
    "\n",
    "ax[0].set_xlim(left=84.)\n",
    "ax[0].set_xlim(right=96.)\n",
    "ax[0].set_ylim(bottom=17.)\n",
    "ax[0].set_ylim(top=35.)\n",
    "\n",
    "h = []\n",
    "    \n",
    "h.append(ax[0].contourf(solver_ML.time/86400/360, solver_ML.z/1000, u_ML.T,\n",
    "                        21, cmap=\"RdYlBu_r\", vmin=cmin, vmax=cmax))\n",
    "\n",
    "ax[0].axhline(25., xmin=0, xmax=1, color='white', linestyle='dashed', linewidth=1.)\n",
    "ax[0].axhline(20., xmin=0, xmax=1, color='white', linestyle='dashed', linewidth=1.)\n",
    "\n",
    "ax[0].set_ylabel('Km', fontsize=10)\n",
    "\n",
    "ax[0].set_xlabel('model year', fontsize=10)\n",
    "\n",
    "xticks_list = np.arange(xmin, xmax+1, 1)\n",
    "ax[0].set_xticks(xticks_list)\n",
    "\n",
    "yticks_list = np.arange(ymin, ymax+2, 2)\n",
    "ax[0].set_yticks(yticks_list)\n",
    "\n",
    "xticklabels_list = list(xticks_list)\n",
    "xticklabels_list = [ '%.0f' % elem for elem in xticklabels_list ]\n",
    "ax[0].set_xticklabels(xticklabels_list, fontsize=10)\n",
    "\n",
    "ax[0].xaxis.set_minor_locator(MultipleLocator(1.))\n",
    "ax[0].yaxis.set_minor_locator(MultipleLocator(1.))\n",
    "\n",
    "ax[0].tick_params(which='both', left=True, right=True, bottom=True, top=True)\n",
    "ax[0].tick_params(which='both', labelbottom=True)\n",
    "\n",
    "ax[0].text(95.50, 25, r'$\\sigma_{25}$ = ' '%.1f' %amp25_ML + r'$\\mathrm{m s^{-1}}$',\n",
    "              horizontalalignment='right', verticalalignment='bottom', color='black')\n",
    "\n",
    "ax[0].text(95.50, 20, r'$\\sigma_{20}$ = ' '%.1f' %amp20_ML + r'$\\mathrm{m s^{-1}}$',\n",
    "              horizontalalignment='right', verticalalignment='bottom', color='black')\n",
    "\n",
    "ax[0].text(84.50, 25, r'$\\tau_{25}$ = ' '%.0f' %tau25_ML + 'months',\n",
    "              horizontalalignment='left', verticalalignment='bottom', color='black')\n",
    "\n",
    "#  colorbars\n",
    "cbar_ax0 = fig.add_axes(ax_pos_inch_to_absolute(fig_size, [01.00, 00.50, 05.50, 00.10])) \n",
    "ax[0].figure.colorbar(plt.cm.ScalarMappable(cmap=\"RdYlBu_r\"), cax=cbar_ax0, format='% 2.0f', \n",
    "                      boundaries=np.linspace(cmin, cmax, 21), orientation='horizontal',\n",
    "                      label=r'$\\mathrm{m s^{-1}}$')"
   ]
  },
  {
   "cell_type": "markdown",
   "metadata": {},
   "source": [
    "# Principle Components analysis"
   ]
  },
  {
   "cell_type": "code",
   "execution_count": 44,
   "metadata": {},
   "outputs": [
    {
     "data": {
      "text/plain": [
       "PCA(n_components=5)"
      ]
     },
     "execution_count": 44,
     "metadata": {},
     "output_type": "execute_result"
    }
   ],
   "source": [
    "pca = PCA(n_components=5)\n",
    "pca.fit(U)"
   ]
  },
  {
   "cell_type": "code",
   "execution_count": 45,
   "metadata": {},
   "outputs": [
    {
     "name": "stdout",
     "output_type": "stream",
     "text": [
      "[0.72211386 0.21139918 0.02723918 0.01867869 0.00658832]\n"
     ]
    }
   ],
   "source": [
    "print(pca.explained_variance_ratio_)\n"
   ]
  },
  {
   "cell_type": "markdown",
   "metadata": {},
   "source": [
    "* The first two components takes up almost all the weights.\n",
    "* High collinaerity of features in U\n",
    "* Regularization can be used"
   ]
  }
 ],
 "metadata": {
  "interpreter": {
   "hash": "830733ea9d918b531834fa8b8da0fcefcd54d93d922d0ee5d3d3c2269aa3eec6"
  },
  "kernelspec": {
   "display_name": "Python 3.8.8 ('py38')",
   "language": "python",
   "name": "python3"
  },
  "language_info": {
   "codemirror_mode": {
    "name": "ipython",
    "version": 3
   },
   "file_extension": ".py",
   "mimetype": "text/x-python",
   "name": "python",
   "nbconvert_exporter": "python",
   "pygments_lexer": "ipython3",
   "version": "3.8.8"
  },
  "orig_nbformat": 4
 },
 "nbformat": 4,
 "nbformat_minor": 2
}
