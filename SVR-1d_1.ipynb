{
 "cells": [
  {
   "cell_type": "code",
   "execution_count": 2,
   "metadata": {},
   "outputs": [],
   "source": [
    "import numpy as np\n",
    "import matplotlib as mpl\n",
    "from matplotlib import pyplot as plt\n",
    "from matplotlib import colors\n",
    "from matplotlib.ticker import MultipleLocator\n",
    "import os.path\n",
    "from pathlib import Path\n",
    "import torch\n",
    "from torch import nn\n",
    "from torch.utils.data import Dataset, DataLoader\n",
    "\n",
    "from qbo1d import utils\n",
    "from qbo1d import adsolver\n",
    "from qbo1d import emulate\n",
    "from qbo1d.stochastic_forcing import WaveSpectrum\n",
    "\n",
    "from sklearn.linear_model import LinearRegression\n",
    "from sklearn.model_selection import train_test_split\n",
    "\n",
    "from qbo1d.stochastic_forcing import sample_sf_cw\n",
    "from sklearn.preprocessing import StandardScaler\n",
    "\n",
    "from sklearn.svm import SVR\n",
    "from sklearn.multioutput import MultiOutputRegressor\n",
    "\n",
    "%load_ext autoreload\n",
    "%autoreload 2"
   ]
  },
  {
   "cell_type": "code",
   "execution_count": 3,
   "metadata": {},
   "outputs": [],
   "source": [
    "# data generator:\n",
    "def data_generator(state=1):\n",
    "    '''\n",
    "    Input: state(0~4)\n",
    "    STATE = 0 -> old control\n",
    "    STATE = 1 -> new control\n",
    "    STATE = 2 -> different mean\n",
    "    STATE = 3 -> different variance\n",
    "    STATE = 4 -> anti-correlation(non-physical) \n",
    "\n",
    "    Output: (u, s, sf, cw, solver)\n",
    "    '''\n",
    "\n",
    "    # parameter dicts\n",
    "    sfe = [3.7e-3, 3.8e-3, 3.2e-3, 3.8e-3, 3.8e-3]\n",
    "    sfv = [1e-8, 9e-8, 9e-8, 9e-10, 9e-8]\n",
    "    cwe = [32, 32, 40, 32, 32]\n",
    "    cwv = [225, 225, 225, 225, 225]\n",
    "    corr = [0.75, 0.75, 0.75, 0.75, -0.75]\n",
    "    seed = [int(21*9+8), int(21*9+7), int(21*6+15), int(21*12+5), int(21*2+10)]\n",
    "\n",
    "    # generate the matrix form\n",
    "\n",
    "    para_mat = np.array([sfe, sfv, cwe, cwv, corr, seed]).T\n",
    "\n",
    "\n",
    "    # Load the data manually\n",
    "    # it takes 40 seconds\n",
    "\n",
    "    t_max = 360 * 108 * 86400\n",
    "    nsteps = 360 * 108\n",
    "    nspinup = 360 * 12\n",
    "    ntot = int(nsteps - nspinup)\n",
    "\n",
    "    torch.set_default_dtype(torch.float64)\n",
    "\n",
    "\n",
    "    # scenario 0 (control)\n",
    "    # --------------------\n",
    "    solver = adsolver.ADSolver(t_max=t_max, w=3e-4)\n",
    "    model = WaveSpectrum(solver, *para_mat[state])\n",
    "    time = solver.time\n",
    "    z = solver.z\n",
    "    u = solver.solve(source_func=model)\n",
    "\n",
    "    return u, model.s, model.sf, model.cw, solver\n"
   ]
  },
  {
   "cell_type": "code",
   "execution_count": 4,
   "metadata": {},
   "outputs": [
    {
     "name": "stderr",
     "output_type": "stream",
     "text": [
      "/Users/eddysmac/Desktop/QBO-1d/qbo1d/adsolver.py:145: UserWarning: torch.triangular_solve is deprecated in favor of torch.linalg.solve_triangularand will be removed in a future PyTorch release.\n",
      "torch.linalg.solve_triangular has its arguments reversed and does not return a copy of one of the inputs.\n",
      "X = torch.triangular_solve(B, A).solution\n",
      "should be replaced with\n",
      "X = torch.linalg.solve_triangular(A, B). (Triggered internally at  /Users/distiller/project/pytorch/aten/src/ATen/native/BatchLinearAlgebra.cpp:1672.)\n",
      "  u[n + 1] = torch.triangular_solve(b, self.R).solution.flatten()\n"
     ]
    }
   ],
   "source": [
    "STATE = 0\n",
    "u, s, sf, cw, solver = data_generator(state=STATE)"
   ]
  },
  {
   "cell_type": "code",
   "execution_count": 5,
   "metadata": {},
   "outputs": [],
   "source": [
    "# Data preprocessing\n",
    "nsteps = 360 * 108\n",
    "nspinup = 360 * 12\n",
    "\n",
    "\n",
    "U = u[nspinup:nsteps, :]\n",
    "SF = sf[nspinup:nsteps]\n",
    "CW = cw[nspinup:nsteps]\n",
    "\n",
    "U = torch.hstack([U[:, 1:-1], SF.view(-1, 1), CW.view(-1, 1)])\n",
    "\n",
    "S = s[nspinup:nsteps, :]\n",
    "\n",
    "sc_U = StandardScaler()\n",
    "sc_S = StandardScaler()\n",
    "\n",
    "# Here U is the features and s is the label\n",
    "\n",
    "U_train, U_test, s_train, s_test = train_test_split(U, S, test_size=0.8, random_state=42)\n",
    "\n",
    "U_train = sc_U.fit_transform(U_train)\n",
    "U_test = sc_U.transform(U_test)\n",
    "\n",
    "s_train = sc_S.fit_transform(s_train)\n",
    "s_test = sc_S.transform(s_test)"
   ]
  },
  {
   "cell_type": "markdown",
   "metadata": {},
   "source": [
    "- The reason why we need scaling: Otherwise we need to set  a really small $\\epsilon$ "
   ]
  },
  {
   "cell_type": "code",
   "execution_count": 6,
   "metadata": {},
   "outputs": [],
   "source": [
    "s_train_35 = s_train[:, 35]\n",
    "s_test_35 = s_test[:, 35]"
   ]
  },
  {
   "cell_type": "code",
   "execution_count": 7,
   "metadata": {},
   "outputs": [
    {
     "data": {
      "text/plain": [
       "SVR(C=32, gamma='auto')"
      ]
     },
     "execution_count": 7,
     "metadata": {},
     "output_type": "execute_result"
    }
   ],
   "source": [
    "svr = SVR(kernel='rbf', gamma='auto', epsilon=.1, C=32)\n",
    "svr.fit(U_train, s_train_35)"
   ]
  },
  {
   "cell_type": "code",
   "execution_count": 8,
   "metadata": {},
   "outputs": [
    {
     "name": "stdout",
     "output_type": "stream",
     "text": [
      "0.9243928328457395\n",
      "0.931846299359639\n"
     ]
    }
   ],
   "source": [
    "print(svr.score(U_test, s_test_35))\n",
    "print(svr.score(U_train, s_train_35))"
   ]
  },
  {
   "cell_type": "code",
   "execution_count": 9,
   "metadata": {},
   "outputs": [
    {
     "data": {
      "text/plain": [
       "array([1041], dtype=int32)"
      ]
     },
     "execution_count": 9,
     "metadata": {},
     "output_type": "execute_result"
    }
   ],
   "source": [
    "svr.n_support_"
   ]
  },
  {
   "cell_type": "code",
   "execution_count": 118,
   "metadata": {},
   "outputs": [
    {
     "data": {
      "text/plain": [
       "MultiOutputRegressor(estimator=SVR(C=32, gamma='auto'))"
      ]
     },
     "execution_count": 118,
     "metadata": {},
     "output_type": "execute_result"
    }
   ],
   "source": [
    "svr_1d = SVR(kernel='rbf', gamma='auto', epsilon=.1, C=32)\n",
    "mr = MultiOutputRegressor(svr)\n",
    "mr.fit(U_train, s_train)"
   ]
  },
  {
   "cell_type": "code",
   "execution_count": 119,
   "metadata": {},
   "outputs": [
    {
     "data": {
      "text/plain": [
       "0.9294644251935146"
      ]
     },
     "execution_count": 119,
     "metadata": {},
     "output_type": "execute_result"
    }
   ],
   "source": [
    "mr.score(U_test, s_test)"
   ]
  },
  {
   "cell_type": "code",
   "execution_count": 120,
   "metadata": {},
   "outputs": [
    {
     "name": "stdout",
     "output_type": "stream",
     "text": [
      "The loss of the linear regression: 1.9204686592371831\n"
     ]
    }
   ],
   "source": [
    "prediction = mr.predict(U_test)\n",
    "mean_l2_loss = np.linalg.norm((prediction - s_test), axis=1).mean()\n",
    "print(f\"The loss of the linear regression: {mean_l2_loss}\")\n",
    "# print(f\"R-squared: {mr.score(U_test, s_test):.9f}\")"
   ]
  },
  {
   "cell_type": "code",
   "execution_count": 121,
   "metadata": {},
   "outputs": [
    {
     "name": "stdout",
     "output_type": "stream",
     "text": [
      "The loss of the linear regression: 2.140788305015839e-05\n"
     ]
    }
   ],
   "source": [
    "prediction_ = sc_S.inverse_transform(prediction)\n",
    "s_test_ = sc_S.inverse_transform(s_test)\n",
    "mean_l2_loss_ = np.linalg.norm((prediction_ - s_test_), axis=1).mean()\n",
    "print(f\"The loss of the linear regression: {mean_l2_loss_}\")\n"
   ]
  },
  {
   "cell_type": "code",
   "execution_count": 122,
   "metadata": {},
   "outputs": [],
   "source": [
    "def rMSE(s_gt, s_pred):\n",
    "    error = (s_gt - s_pred)\n",
    "    SSE = sum(error ** 2)\n",
    "    MSE = SSE/s_gt.shape[0]\n",
    "    RMSE = MSE**.5\n",
    "    return RMSE\n",
    "\n",
    "def plot_MSE(RMSE_list):\n",
    "    levels = list(range(len(RMSE_list[0])))\n",
    "    for RMSE in RMSE_list:\n",
    "        plt.scatter(x=RMSE, y=levels, s=2)\n",
    "        plt.plot(RMSE, levels)\n",
    "    plt.show()"
   ]
  },
  {
   "cell_type": "code",
   "execution_count": 129,
   "metadata": {},
   "outputs": [
    {
     "ename": "KeyboardInterrupt",
     "evalue": "",
     "output_type": "error",
     "traceback": [
      "\u001b[0;31m---------------------------------------------------------------------------\u001b[0m",
      "\u001b[0;31mKeyboardInterrupt\u001b[0m                         Traceback (most recent call last)",
      "\u001b[1;32m/Users/eddysmac/Desktop/QBO-1d/SVR-1d.ipynb Cell 14'\u001b[0m in \u001b[0;36m<cell line: 2>\u001b[0;34m()\u001b[0m\n\u001b[1;32m      <a href='vscode-notebook-cell:/Users/eddysmac/Desktop/QBO-1d/SVR-1d.ipynb#ch0000025?line=0'>1</a>\u001b[0m transformed_U \u001b[39m=\u001b[39m sc_U\u001b[39m.\u001b[39mtransform(U)\n\u001b[0;32m----> <a href='vscode-notebook-cell:/Users/eddysmac/Desktop/QBO-1d/SVR-1d.ipynb#ch0000025?line=1'>2</a>\u001b[0m s_prediction \u001b[39m=\u001b[39m mr\u001b[39m.\u001b[39;49mpredict(transformed_U)\n\u001b[1;32m      <a href='vscode-notebook-cell:/Users/eddysmac/Desktop/QBO-1d/SVR-1d.ipynb#ch0000025?line=2'>3</a>\u001b[0m s_prediction_ \u001b[39m=\u001b[39m sc_S\u001b[39m.\u001b[39minverse_transform(prediction)\n\u001b[1;32m      <a href='vscode-notebook-cell:/Users/eddysmac/Desktop/QBO-1d/SVR-1d.ipynb#ch0000025?line=3'>4</a>\u001b[0m RMSE \u001b[39m=\u001b[39m rMSE(s, s_prediUtion_)\n",
      "File \u001b[0;32m~/opt/anaconda3/envs/py38/lib/python3.8/site-packages/sklearn/multioutput.py:234\u001b[0m, in \u001b[0;36m_MultiOutputEstimator.predict\u001b[0;34m(self, X)\u001b[0m\n\u001b[1;32m    <a href='file:///Users/eddysmac/opt/anaconda3/envs/py38/lib/python3.8/site-packages/sklearn/multioutput.py?line=230'>231</a>\u001b[0m \u001b[39mif\u001b[39;00m \u001b[39mnot\u001b[39;00m \u001b[39mhasattr\u001b[39m(\u001b[39mself\u001b[39m\u001b[39m.\u001b[39mestimators_[\u001b[39m0\u001b[39m], \u001b[39m\"\u001b[39m\u001b[39mpredict\u001b[39m\u001b[39m\"\u001b[39m):\n\u001b[1;32m    <a href='file:///Users/eddysmac/opt/anaconda3/envs/py38/lib/python3.8/site-packages/sklearn/multioutput.py?line=231'>232</a>\u001b[0m     \u001b[39mraise\u001b[39;00m \u001b[39mValueError\u001b[39;00m(\u001b[39m\"\u001b[39m\u001b[39mThe base estimator should implement a predict method\u001b[39m\u001b[39m\"\u001b[39m)\n\u001b[0;32m--> <a href='file:///Users/eddysmac/opt/anaconda3/envs/py38/lib/python3.8/site-packages/sklearn/multioutput.py?line=233'>234</a>\u001b[0m y \u001b[39m=\u001b[39m Parallel(n_jobs\u001b[39m=\u001b[39;49m\u001b[39mself\u001b[39;49m\u001b[39m.\u001b[39;49mn_jobs)(\n\u001b[1;32m    <a href='file:///Users/eddysmac/opt/anaconda3/envs/py38/lib/python3.8/site-packages/sklearn/multioutput.py?line=234'>235</a>\u001b[0m     delayed(e\u001b[39m.\u001b[39;49mpredict)(X) \u001b[39mfor\u001b[39;49;00m e \u001b[39min\u001b[39;49;00m \u001b[39mself\u001b[39;49m\u001b[39m.\u001b[39;49mestimators_\n\u001b[1;32m    <a href='file:///Users/eddysmac/opt/anaconda3/envs/py38/lib/python3.8/site-packages/sklearn/multioutput.py?line=235'>236</a>\u001b[0m )\n\u001b[1;32m    <a href='file:///Users/eddysmac/opt/anaconda3/envs/py38/lib/python3.8/site-packages/sklearn/multioutput.py?line=237'>238</a>\u001b[0m \u001b[39mreturn\u001b[39;00m np\u001b[39m.\u001b[39masarray(y)\u001b[39m.\u001b[39mT\n",
      "File \u001b[0;32m~/opt/anaconda3/envs/py38/lib/python3.8/site-packages/joblib/parallel.py:1046\u001b[0m, in \u001b[0;36mParallel.__call__\u001b[0;34m(self, iterable)\u001b[0m\n\u001b[1;32m   <a href='file:///Users/eddysmac/opt/anaconda3/envs/py38/lib/python3.8/site-packages/joblib/parallel.py?line=1042'>1043</a>\u001b[0m \u001b[39mif\u001b[39;00m \u001b[39mself\u001b[39m\u001b[39m.\u001b[39mdispatch_one_batch(iterator):\n\u001b[1;32m   <a href='file:///Users/eddysmac/opt/anaconda3/envs/py38/lib/python3.8/site-packages/joblib/parallel.py?line=1043'>1044</a>\u001b[0m     \u001b[39mself\u001b[39m\u001b[39m.\u001b[39m_iterating \u001b[39m=\u001b[39m \u001b[39mself\u001b[39m\u001b[39m.\u001b[39m_original_iterator \u001b[39mis\u001b[39;00m \u001b[39mnot\u001b[39;00m \u001b[39mNone\u001b[39;00m\n\u001b[0;32m-> <a href='file:///Users/eddysmac/opt/anaconda3/envs/py38/lib/python3.8/site-packages/joblib/parallel.py?line=1045'>1046</a>\u001b[0m \u001b[39mwhile\u001b[39;00m \u001b[39mself\u001b[39;49m\u001b[39m.\u001b[39;49mdispatch_one_batch(iterator):\n\u001b[1;32m   <a href='file:///Users/eddysmac/opt/anaconda3/envs/py38/lib/python3.8/site-packages/joblib/parallel.py?line=1046'>1047</a>\u001b[0m     \u001b[39mpass\u001b[39;00m\n\u001b[1;32m   <a href='file:///Users/eddysmac/opt/anaconda3/envs/py38/lib/python3.8/site-packages/joblib/parallel.py?line=1048'>1049</a>\u001b[0m \u001b[39mif\u001b[39;00m pre_dispatch \u001b[39m==\u001b[39m \u001b[39m\"\u001b[39m\u001b[39mall\u001b[39m\u001b[39m\"\u001b[39m \u001b[39mor\u001b[39;00m n_jobs \u001b[39m==\u001b[39m \u001b[39m1\u001b[39m:\n\u001b[1;32m   <a href='file:///Users/eddysmac/opt/anaconda3/envs/py38/lib/python3.8/site-packages/joblib/parallel.py?line=1049'>1050</a>\u001b[0m     \u001b[39m# The iterable was consumed all at once by the above for loop.\u001b[39;00m\n\u001b[1;32m   <a href='file:///Users/eddysmac/opt/anaconda3/envs/py38/lib/python3.8/site-packages/joblib/parallel.py?line=1050'>1051</a>\u001b[0m     \u001b[39m# No need to wait for async callbacks to trigger to\u001b[39;00m\n\u001b[1;32m   <a href='file:///Users/eddysmac/opt/anaconda3/envs/py38/lib/python3.8/site-packages/joblib/parallel.py?line=1051'>1052</a>\u001b[0m     \u001b[39m# consumption.\u001b[39;00m\n",
      "File \u001b[0;32m~/opt/anaconda3/envs/py38/lib/python3.8/site-packages/joblib/parallel.py:861\u001b[0m, in \u001b[0;36mParallel.dispatch_one_batch\u001b[0;34m(self, iterator)\u001b[0m\n\u001b[1;32m    <a href='file:///Users/eddysmac/opt/anaconda3/envs/py38/lib/python3.8/site-packages/joblib/parallel.py?line=858'>859</a>\u001b[0m     \u001b[39mreturn\u001b[39;00m \u001b[39mFalse\u001b[39;00m\n\u001b[1;32m    <a href='file:///Users/eddysmac/opt/anaconda3/envs/py38/lib/python3.8/site-packages/joblib/parallel.py?line=859'>860</a>\u001b[0m \u001b[39melse\u001b[39;00m:\n\u001b[0;32m--> <a href='file:///Users/eddysmac/opt/anaconda3/envs/py38/lib/python3.8/site-packages/joblib/parallel.py?line=860'>861</a>\u001b[0m     \u001b[39mself\u001b[39;49m\u001b[39m.\u001b[39;49m_dispatch(tasks)\n\u001b[1;32m    <a href='file:///Users/eddysmac/opt/anaconda3/envs/py38/lib/python3.8/site-packages/joblib/parallel.py?line=861'>862</a>\u001b[0m     \u001b[39mreturn\u001b[39;00m \u001b[39mTrue\u001b[39;00m\n",
      "File \u001b[0;32m~/opt/anaconda3/envs/py38/lib/python3.8/site-packages/joblib/parallel.py:779\u001b[0m, in \u001b[0;36mParallel._dispatch\u001b[0;34m(self, batch)\u001b[0m\n\u001b[1;32m    <a href='file:///Users/eddysmac/opt/anaconda3/envs/py38/lib/python3.8/site-packages/joblib/parallel.py?line=776'>777</a>\u001b[0m \u001b[39mwith\u001b[39;00m \u001b[39mself\u001b[39m\u001b[39m.\u001b[39m_lock:\n\u001b[1;32m    <a href='file:///Users/eddysmac/opt/anaconda3/envs/py38/lib/python3.8/site-packages/joblib/parallel.py?line=777'>778</a>\u001b[0m     job_idx \u001b[39m=\u001b[39m \u001b[39mlen\u001b[39m(\u001b[39mself\u001b[39m\u001b[39m.\u001b[39m_jobs)\n\u001b[0;32m--> <a href='file:///Users/eddysmac/opt/anaconda3/envs/py38/lib/python3.8/site-packages/joblib/parallel.py?line=778'>779</a>\u001b[0m     job \u001b[39m=\u001b[39m \u001b[39mself\u001b[39;49m\u001b[39m.\u001b[39;49m_backend\u001b[39m.\u001b[39;49mapply_async(batch, callback\u001b[39m=\u001b[39;49mcb)\n\u001b[1;32m    <a href='file:///Users/eddysmac/opt/anaconda3/envs/py38/lib/python3.8/site-packages/joblib/parallel.py?line=779'>780</a>\u001b[0m     \u001b[39m# A job can complete so quickly than its callback is\u001b[39;00m\n\u001b[1;32m    <a href='file:///Users/eddysmac/opt/anaconda3/envs/py38/lib/python3.8/site-packages/joblib/parallel.py?line=780'>781</a>\u001b[0m     \u001b[39m# called before we get here, causing self._jobs to\u001b[39;00m\n\u001b[1;32m    <a href='file:///Users/eddysmac/opt/anaconda3/envs/py38/lib/python3.8/site-packages/joblib/parallel.py?line=781'>782</a>\u001b[0m     \u001b[39m# grow. To ensure correct results ordering, .insert is\u001b[39;00m\n\u001b[1;32m    <a href='file:///Users/eddysmac/opt/anaconda3/envs/py38/lib/python3.8/site-packages/joblib/parallel.py?line=782'>783</a>\u001b[0m     \u001b[39m# used (rather than .append) in the following line\u001b[39;00m\n\u001b[1;32m    <a href='file:///Users/eddysmac/opt/anaconda3/envs/py38/lib/python3.8/site-packages/joblib/parallel.py?line=783'>784</a>\u001b[0m     \u001b[39mself\u001b[39m\u001b[39m.\u001b[39m_jobs\u001b[39m.\u001b[39minsert(job_idx, job)\n",
      "File \u001b[0;32m~/opt/anaconda3/envs/py38/lib/python3.8/site-packages/joblib/_parallel_backends.py:208\u001b[0m, in \u001b[0;36mSequentialBackend.apply_async\u001b[0;34m(self, func, callback)\u001b[0m\n\u001b[1;32m    <a href='file:///Users/eddysmac/opt/anaconda3/envs/py38/lib/python3.8/site-packages/joblib/_parallel_backends.py?line=205'>206</a>\u001b[0m \u001b[39mdef\u001b[39;00m \u001b[39mapply_async\u001b[39m(\u001b[39mself\u001b[39m, func, callback\u001b[39m=\u001b[39m\u001b[39mNone\u001b[39;00m):\n\u001b[1;32m    <a href='file:///Users/eddysmac/opt/anaconda3/envs/py38/lib/python3.8/site-packages/joblib/_parallel_backends.py?line=206'>207</a>\u001b[0m     \u001b[39m\"\"\"Schedule a func to be run\"\"\"\u001b[39;00m\n\u001b[0;32m--> <a href='file:///Users/eddysmac/opt/anaconda3/envs/py38/lib/python3.8/site-packages/joblib/_parallel_backends.py?line=207'>208</a>\u001b[0m     result \u001b[39m=\u001b[39m ImmediateResult(func)\n\u001b[1;32m    <a href='file:///Users/eddysmac/opt/anaconda3/envs/py38/lib/python3.8/site-packages/joblib/_parallel_backends.py?line=208'>209</a>\u001b[0m     \u001b[39mif\u001b[39;00m callback:\n\u001b[1;32m    <a href='file:///Users/eddysmac/opt/anaconda3/envs/py38/lib/python3.8/site-packages/joblib/_parallel_backends.py?line=209'>210</a>\u001b[0m         callback(result)\n",
      "File \u001b[0;32m~/opt/anaconda3/envs/py38/lib/python3.8/site-packages/joblib/_parallel_backends.py:572\u001b[0m, in \u001b[0;36mImmediateResult.__init__\u001b[0;34m(self, batch)\u001b[0m\n\u001b[1;32m    <a href='file:///Users/eddysmac/opt/anaconda3/envs/py38/lib/python3.8/site-packages/joblib/_parallel_backends.py?line=568'>569</a>\u001b[0m \u001b[39mdef\u001b[39;00m \u001b[39m__init__\u001b[39m(\u001b[39mself\u001b[39m, batch):\n\u001b[1;32m    <a href='file:///Users/eddysmac/opt/anaconda3/envs/py38/lib/python3.8/site-packages/joblib/_parallel_backends.py?line=569'>570</a>\u001b[0m     \u001b[39m# Don't delay the application, to avoid keeping the input\u001b[39;00m\n\u001b[1;32m    <a href='file:///Users/eddysmac/opt/anaconda3/envs/py38/lib/python3.8/site-packages/joblib/_parallel_backends.py?line=570'>571</a>\u001b[0m     \u001b[39m# arguments in memory\u001b[39;00m\n\u001b[0;32m--> <a href='file:///Users/eddysmac/opt/anaconda3/envs/py38/lib/python3.8/site-packages/joblib/_parallel_backends.py?line=571'>572</a>\u001b[0m     \u001b[39mself\u001b[39m\u001b[39m.\u001b[39mresults \u001b[39m=\u001b[39m batch()\n",
      "File \u001b[0;32m~/opt/anaconda3/envs/py38/lib/python3.8/site-packages/joblib/parallel.py:262\u001b[0m, in \u001b[0;36mBatchedCalls.__call__\u001b[0;34m(self)\u001b[0m\n\u001b[1;32m    <a href='file:///Users/eddysmac/opt/anaconda3/envs/py38/lib/python3.8/site-packages/joblib/parallel.py?line=257'>258</a>\u001b[0m \u001b[39mdef\u001b[39;00m \u001b[39m__call__\u001b[39m(\u001b[39mself\u001b[39m):\n\u001b[1;32m    <a href='file:///Users/eddysmac/opt/anaconda3/envs/py38/lib/python3.8/site-packages/joblib/parallel.py?line=258'>259</a>\u001b[0m     \u001b[39m# Set the default nested backend to self._backend but do not set the\u001b[39;00m\n\u001b[1;32m    <a href='file:///Users/eddysmac/opt/anaconda3/envs/py38/lib/python3.8/site-packages/joblib/parallel.py?line=259'>260</a>\u001b[0m     \u001b[39m# change the default number of processes to -1\u001b[39;00m\n\u001b[1;32m    <a href='file:///Users/eddysmac/opt/anaconda3/envs/py38/lib/python3.8/site-packages/joblib/parallel.py?line=260'>261</a>\u001b[0m     \u001b[39mwith\u001b[39;00m parallel_backend(\u001b[39mself\u001b[39m\u001b[39m.\u001b[39m_backend, n_jobs\u001b[39m=\u001b[39m\u001b[39mself\u001b[39m\u001b[39m.\u001b[39m_n_jobs):\n\u001b[0;32m--> <a href='file:///Users/eddysmac/opt/anaconda3/envs/py38/lib/python3.8/site-packages/joblib/parallel.py?line=261'>262</a>\u001b[0m         \u001b[39mreturn\u001b[39;00m [func(\u001b[39m*\u001b[39margs, \u001b[39m*\u001b[39m\u001b[39m*\u001b[39mkwargs)\n\u001b[1;32m    <a href='file:///Users/eddysmac/opt/anaconda3/envs/py38/lib/python3.8/site-packages/joblib/parallel.py?line=262'>263</a>\u001b[0m                 \u001b[39mfor\u001b[39;00m func, args, kwargs \u001b[39min\u001b[39;00m \u001b[39mself\u001b[39m\u001b[39m.\u001b[39mitems]\n",
      "File \u001b[0;32m~/opt/anaconda3/envs/py38/lib/python3.8/site-packages/joblib/parallel.py:262\u001b[0m, in \u001b[0;36m<listcomp>\u001b[0;34m(.0)\u001b[0m\n\u001b[1;32m    <a href='file:///Users/eddysmac/opt/anaconda3/envs/py38/lib/python3.8/site-packages/joblib/parallel.py?line=257'>258</a>\u001b[0m \u001b[39mdef\u001b[39;00m \u001b[39m__call__\u001b[39m(\u001b[39mself\u001b[39m):\n\u001b[1;32m    <a href='file:///Users/eddysmac/opt/anaconda3/envs/py38/lib/python3.8/site-packages/joblib/parallel.py?line=258'>259</a>\u001b[0m     \u001b[39m# Set the default nested backend to self._backend but do not set the\u001b[39;00m\n\u001b[1;32m    <a href='file:///Users/eddysmac/opt/anaconda3/envs/py38/lib/python3.8/site-packages/joblib/parallel.py?line=259'>260</a>\u001b[0m     \u001b[39m# change the default number of processes to -1\u001b[39;00m\n\u001b[1;32m    <a href='file:///Users/eddysmac/opt/anaconda3/envs/py38/lib/python3.8/site-packages/joblib/parallel.py?line=260'>261</a>\u001b[0m     \u001b[39mwith\u001b[39;00m parallel_backend(\u001b[39mself\u001b[39m\u001b[39m.\u001b[39m_backend, n_jobs\u001b[39m=\u001b[39m\u001b[39mself\u001b[39m\u001b[39m.\u001b[39m_n_jobs):\n\u001b[0;32m--> <a href='file:///Users/eddysmac/opt/anaconda3/envs/py38/lib/python3.8/site-packages/joblib/parallel.py?line=261'>262</a>\u001b[0m         \u001b[39mreturn\u001b[39;00m [func(\u001b[39m*\u001b[39;49margs, \u001b[39m*\u001b[39;49m\u001b[39m*\u001b[39;49mkwargs)\n\u001b[1;32m    <a href='file:///Users/eddysmac/opt/anaconda3/envs/py38/lib/python3.8/site-packages/joblib/parallel.py?line=262'>263</a>\u001b[0m                 \u001b[39mfor\u001b[39;00m func, args, kwargs \u001b[39min\u001b[39;00m \u001b[39mself\u001b[39m\u001b[39m.\u001b[39mitems]\n",
      "File \u001b[0;32m~/opt/anaconda3/envs/py38/lib/python3.8/site-packages/sklearn/utils/fixes.py:216\u001b[0m, in \u001b[0;36m_FuncWrapper.__call__\u001b[0;34m(self, *args, **kwargs)\u001b[0m\n\u001b[1;32m    <a href='file:///Users/eddysmac/opt/anaconda3/envs/py38/lib/python3.8/site-packages/sklearn/utils/fixes.py?line=213'>214</a>\u001b[0m \u001b[39mdef\u001b[39;00m \u001b[39m__call__\u001b[39m(\u001b[39mself\u001b[39m, \u001b[39m*\u001b[39margs, \u001b[39m*\u001b[39m\u001b[39m*\u001b[39mkwargs):\n\u001b[1;32m    <a href='file:///Users/eddysmac/opt/anaconda3/envs/py38/lib/python3.8/site-packages/sklearn/utils/fixes.py?line=214'>215</a>\u001b[0m     \u001b[39mwith\u001b[39;00m config_context(\u001b[39m*\u001b[39m\u001b[39m*\u001b[39m\u001b[39mself\u001b[39m\u001b[39m.\u001b[39mconfig):\n\u001b[0;32m--> <a href='file:///Users/eddysmac/opt/anaconda3/envs/py38/lib/python3.8/site-packages/sklearn/utils/fixes.py?line=215'>216</a>\u001b[0m         \u001b[39mreturn\u001b[39;00m \u001b[39mself\u001b[39;49m\u001b[39m.\u001b[39;49mfunction(\u001b[39m*\u001b[39;49margs, \u001b[39m*\u001b[39;49m\u001b[39m*\u001b[39;49mkwargs)\n",
      "File \u001b[0;32m~/opt/anaconda3/envs/py38/lib/python3.8/site-packages/sklearn/svm/_base.py:416\u001b[0m, in \u001b[0;36mBaseLibSVM.predict\u001b[0;34m(self, X)\u001b[0m\n\u001b[1;32m    <a href='file:///Users/eddysmac/opt/anaconda3/envs/py38/lib/python3.8/site-packages/sklearn/svm/_base.py?line=413'>414</a>\u001b[0m X \u001b[39m=\u001b[39m \u001b[39mself\u001b[39m\u001b[39m.\u001b[39m_validate_for_predict(X)\n\u001b[1;32m    <a href='file:///Users/eddysmac/opt/anaconda3/envs/py38/lib/python3.8/site-packages/sklearn/svm/_base.py?line=414'>415</a>\u001b[0m predict \u001b[39m=\u001b[39m \u001b[39mself\u001b[39m\u001b[39m.\u001b[39m_sparse_predict \u001b[39mif\u001b[39;00m \u001b[39mself\u001b[39m\u001b[39m.\u001b[39m_sparse \u001b[39melse\u001b[39;00m \u001b[39mself\u001b[39m\u001b[39m.\u001b[39m_dense_predict\n\u001b[0;32m--> <a href='file:///Users/eddysmac/opt/anaconda3/envs/py38/lib/python3.8/site-packages/sklearn/svm/_base.py?line=415'>416</a>\u001b[0m \u001b[39mreturn\u001b[39;00m predict(X)\n",
      "File \u001b[0;32m~/opt/anaconda3/envs/py38/lib/python3.8/site-packages/sklearn/svm/_base.py:435\u001b[0m, in \u001b[0;36mBaseLibSVM._dense_predict\u001b[0;34m(self, X)\u001b[0m\n\u001b[1;32m    <a href='file:///Users/eddysmac/opt/anaconda3/envs/py38/lib/python3.8/site-packages/sklearn/svm/_base.py?line=426'>427</a>\u001b[0m         \u001b[39mraise\u001b[39;00m \u001b[39mValueError\u001b[39;00m(\n\u001b[1;32m    <a href='file:///Users/eddysmac/opt/anaconda3/envs/py38/lib/python3.8/site-packages/sklearn/svm/_base.py?line=427'>428</a>\u001b[0m             \u001b[39m\"\u001b[39m\u001b[39mX.shape[1] = \u001b[39m\u001b[39m%d\u001b[39;00m\u001b[39m should be equal to \u001b[39m\u001b[39m%d\u001b[39;00m\u001b[39m, \u001b[39m\u001b[39m\"\u001b[39m\n\u001b[1;32m    <a href='file:///Users/eddysmac/opt/anaconda3/envs/py38/lib/python3.8/site-packages/sklearn/svm/_base.py?line=428'>429</a>\u001b[0m             \u001b[39m\"\u001b[39m\u001b[39mthe number of samples at training time\u001b[39m\u001b[39m\"\u001b[39m\n\u001b[1;32m    <a href='file:///Users/eddysmac/opt/anaconda3/envs/py38/lib/python3.8/site-packages/sklearn/svm/_base.py?line=429'>430</a>\u001b[0m             \u001b[39m%\u001b[39m (X\u001b[39m.\u001b[39mshape[\u001b[39m1\u001b[39m], \u001b[39mself\u001b[39m\u001b[39m.\u001b[39mshape_fit_[\u001b[39m0\u001b[39m])\n\u001b[1;32m    <a href='file:///Users/eddysmac/opt/anaconda3/envs/py38/lib/python3.8/site-packages/sklearn/svm/_base.py?line=430'>431</a>\u001b[0m         )\n\u001b[1;32m    <a href='file:///Users/eddysmac/opt/anaconda3/envs/py38/lib/python3.8/site-packages/sklearn/svm/_base.py?line=432'>433</a>\u001b[0m svm_type \u001b[39m=\u001b[39m LIBSVM_IMPL\u001b[39m.\u001b[39mindex(\u001b[39mself\u001b[39m\u001b[39m.\u001b[39m_impl)\n\u001b[0;32m--> <a href='file:///Users/eddysmac/opt/anaconda3/envs/py38/lib/python3.8/site-packages/sklearn/svm/_base.py?line=434'>435</a>\u001b[0m \u001b[39mreturn\u001b[39;00m libsvm\u001b[39m.\u001b[39;49mpredict(\n\u001b[1;32m    <a href='file:///Users/eddysmac/opt/anaconda3/envs/py38/lib/python3.8/site-packages/sklearn/svm/_base.py?line=435'>436</a>\u001b[0m     X,\n\u001b[1;32m    <a href='file:///Users/eddysmac/opt/anaconda3/envs/py38/lib/python3.8/site-packages/sklearn/svm/_base.py?line=436'>437</a>\u001b[0m     \u001b[39mself\u001b[39;49m\u001b[39m.\u001b[39;49msupport_,\n\u001b[1;32m    <a href='file:///Users/eddysmac/opt/anaconda3/envs/py38/lib/python3.8/site-packages/sklearn/svm/_base.py?line=437'>438</a>\u001b[0m     \u001b[39mself\u001b[39;49m\u001b[39m.\u001b[39;49msupport_vectors_,\n\u001b[1;32m    <a href='file:///Users/eddysmac/opt/anaconda3/envs/py38/lib/python3.8/site-packages/sklearn/svm/_base.py?line=438'>439</a>\u001b[0m     \u001b[39mself\u001b[39;49m\u001b[39m.\u001b[39;49m_n_support,\n\u001b[1;32m    <a href='file:///Users/eddysmac/opt/anaconda3/envs/py38/lib/python3.8/site-packages/sklearn/svm/_base.py?line=439'>440</a>\u001b[0m     \u001b[39mself\u001b[39;49m\u001b[39m.\u001b[39;49m_dual_coef_,\n\u001b[1;32m    <a href='file:///Users/eddysmac/opt/anaconda3/envs/py38/lib/python3.8/site-packages/sklearn/svm/_base.py?line=440'>441</a>\u001b[0m     \u001b[39mself\u001b[39;49m\u001b[39m.\u001b[39;49m_intercept_,\n\u001b[1;32m    <a href='file:///Users/eddysmac/opt/anaconda3/envs/py38/lib/python3.8/site-packages/sklearn/svm/_base.py?line=441'>442</a>\u001b[0m     \u001b[39mself\u001b[39;49m\u001b[39m.\u001b[39;49m_probA,\n\u001b[1;32m    <a href='file:///Users/eddysmac/opt/anaconda3/envs/py38/lib/python3.8/site-packages/sklearn/svm/_base.py?line=442'>443</a>\u001b[0m     \u001b[39mself\u001b[39;49m\u001b[39m.\u001b[39;49m_probB,\n\u001b[1;32m    <a href='file:///Users/eddysmac/opt/anaconda3/envs/py38/lib/python3.8/site-packages/sklearn/svm/_base.py?line=443'>444</a>\u001b[0m     svm_type\u001b[39m=\u001b[39;49msvm_type,\n\u001b[1;32m    <a href='file:///Users/eddysmac/opt/anaconda3/envs/py38/lib/python3.8/site-packages/sklearn/svm/_base.py?line=444'>445</a>\u001b[0m     kernel\u001b[39m=\u001b[39;49mkernel,\n\u001b[1;32m    <a href='file:///Users/eddysmac/opt/anaconda3/envs/py38/lib/python3.8/site-packages/sklearn/svm/_base.py?line=445'>446</a>\u001b[0m     degree\u001b[39m=\u001b[39;49m\u001b[39mself\u001b[39;49m\u001b[39m.\u001b[39;49mdegree,\n\u001b[1;32m    <a href='file:///Users/eddysmac/opt/anaconda3/envs/py38/lib/python3.8/site-packages/sklearn/svm/_base.py?line=446'>447</a>\u001b[0m     coef0\u001b[39m=\u001b[39;49m\u001b[39mself\u001b[39;49m\u001b[39m.\u001b[39;49mcoef0,\n\u001b[1;32m    <a href='file:///Users/eddysmac/opt/anaconda3/envs/py38/lib/python3.8/site-packages/sklearn/svm/_base.py?line=447'>448</a>\u001b[0m     gamma\u001b[39m=\u001b[39;49m\u001b[39mself\u001b[39;49m\u001b[39m.\u001b[39;49m_gamma,\n\u001b[1;32m    <a href='file:///Users/eddysmac/opt/anaconda3/envs/py38/lib/python3.8/site-packages/sklearn/svm/_base.py?line=448'>449</a>\u001b[0m     cache_size\u001b[39m=\u001b[39;49m\u001b[39mself\u001b[39;49m\u001b[39m.\u001b[39;49mcache_size,\n\u001b[1;32m    <a href='file:///Users/eddysmac/opt/anaconda3/envs/py38/lib/python3.8/site-packages/sklearn/svm/_base.py?line=449'>450</a>\u001b[0m )\n",
      "\u001b[0;31mKeyboardInterrupt\u001b[0m: "
     ]
    }
   ],
   "source": [
    "transformed_U = sc_U.transform(U)\n",
    "s_prediction = mr.predict(transformed_U)\n",
    "s_prediction_ = sc_S.inverse_transform(prediction)\n",
    "RMSE = rMSE(s, s_prediction_) "
   ]
  },
  {
   "cell_type": "code",
   "execution_count": 128,
   "metadata": {},
   "outputs": [
    {
     "data": {
      "text/plain": [
       "(34560, 73)"
      ]
     },
     "execution_count": 128,
     "metadata": {},
     "output_type": "execute_result"
    }
   ],
   "source": [
    "transformed_U.shape"
   ]
  },
  {
   "cell_type": "code",
   "execution_count": null,
   "metadata": {},
   "outputs": [],
   "source": []
  }
 ],
 "metadata": {
  "interpreter": {
   "hash": "830733ea9d918b531834fa8b8da0fcefcd54d93d922d0ee5d3d3c2269aa3eec6"
  },
  "kernelspec": {
   "display_name": "Python 3.8.8 ('py38')",
   "language": "python",
   "name": "python3"
  },
  "language_info": {
   "codemirror_mode": {
    "name": "ipython",
    "version": 3
   },
   "file_extension": ".py",
   "mimetype": "text/x-python",
   "name": "python",
   "nbconvert_exporter": "python",
   "pygments_lexer": "ipython3",
   "version": "3.8.8"
  },
  "orig_nbformat": 4
 },
 "nbformat": 4,
 "nbformat_minor": 2
}
