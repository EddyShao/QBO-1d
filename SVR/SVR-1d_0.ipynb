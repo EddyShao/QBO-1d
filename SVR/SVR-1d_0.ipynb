{
 "cells": [
  {
   "cell_type": "code",
   "execution_count": 72,
   "metadata": {},
   "outputs": [
    {
     "name": "stdout",
     "output_type": "stream",
     "text": [
      "The autoreload extension is already loaded. To reload it, use:\n",
      "  %reload_ext autoreload\n"
     ]
    }
   ],
   "source": [
    "import numpy as np\n",
    "import matplotlib as mpl\n",
    "from matplotlib import pyplot as plt\n",
    "from matplotlib import colors\n",
    "from matplotlib.ticker import MultipleLocator\n",
    "import os.path\n",
    "from pathlib import Path\n",
    "import torch\n",
    "from torch import nn\n",
    "from torch.utils.data import Dataset, DataLoader\n",
    "\n",
    "from qbo1d import utils\n",
    "from qbo1d import adsolver\n",
    "from qbo1d import emulate\n",
    "from qbo1d.stochastic_forcing import WaveSpectrum\n",
    "\n",
    "from sklearn.linear_model import LinearRegression, Lasso, Ridge\n",
    "from sklearn.model_selection import train_test_split\n",
    "\n",
    "from sklearn.decomposition import PCA\n",
    "\n",
    "from qbo1d.stochastic_forcing import sample_sf_cw\n",
    "\n",
    "from sklearn.svm import SVR\n",
    "from sklearn.svm import NuSVR\n",
    "from sklearn.multioutput import MultiOutputRegressor\n",
    "\n",
    "from sklearn.metrics import r2_score\n",
    "\n",
    "from sklearn.preprocessing import StandardScaler\n",
    "\n",
    "%load_ext autoreload\n",
    "%autoreload 2"
   ]
  },
  {
   "cell_type": "markdown",
   "metadata": {},
   "source": [
    "## Utils"
   ]
  },
  {
   "cell_type": "code",
   "execution_count": 3,
   "metadata": {},
   "outputs": [],
   "source": [
    "def ax_pos_inch_to_absolute(fig_size, ax_pos_inch):\n",
    "    ax_pos_absolute = []\n",
    "    ax_pos_absolute.append(ax_pos_inch[0]/fig_size[0])\n",
    "    ax_pos_absolute.append(ax_pos_inch[1]/fig_size[1])\n",
    "    ax_pos_absolute.append(ax_pos_inch[2]/fig_size[0])\n",
    "    ax_pos_absolute.append(ax_pos_inch[3]/fig_size[1])\n",
    "    return ax_pos_absolute"
   ]
  },
  {
   "cell_type": "code",
   "execution_count": 4,
   "metadata": {},
   "outputs": [],
   "source": [
    "def plot_76_tensors(u, solver, amp25=None, amp20=None, period=None, isu=True):\n",
    "    fig_size = (06.90, 02.20+01.50)\n",
    "    fig = plt.figure(figsize=fig_size)\n",
    "\n",
    "    ax = []\n",
    "\n",
    "    ax.append(fig.add_axes(ax_pos_inch_to_absolute(fig_size, [00.75, 01.25, 06.00, 02.00])))\n",
    "\n",
    "    cmin = -u.abs().max()\n",
    "    cmax = u.abs().max()\n",
    "\n",
    "    xmin = 84.\n",
    "    xmax = 96.\n",
    "    ymin = 17.\n",
    "    ymax = 35.\n",
    "\n",
    "    ax[0].set_xlim(left=84.)\n",
    "    ax[0].set_xlim(right=96.)\n",
    "    ax[0].set_ylim(bottom=17.)\n",
    "    ax[0].set_ylim(top=35.)\n",
    "\n",
    "    h = []\n",
    "\n",
    "    h.append(ax[0].contourf(solver.time/86400/360, solver.z/1000, u.T,\n",
    "                21, cmap=\"RdYlBu_r\", vmin=cmin, vmax=cmax))\n",
    "\n",
    "    ax[0].axhline(25., xmin=0, xmax=1, color='white', linestyle='dashed', linewidth=1.)\n",
    "    ax[0].axhline(20., xmin=0, xmax=1, color='white', linestyle='dashed', linewidth=1.)\n",
    "\n",
    "    ax[0].set_ylabel('Km', fontsize=10)\n",
    "\n",
    "    ax[0].set_xlabel('model year', fontsize=10)\n",
    "\n",
    "    xticks_list = np.arange(xmin, xmax+1, 1)\n",
    "    ax[0].set_xticks(xticks_list)\n",
    "\n",
    "    yticks_list = np.arange(ymin, ymax+2, 2)\n",
    "    ax[0].set_yticks(yticks_list)\n",
    "\n",
    "    xticklabels_list = list(xticks_list)\n",
    "    xticklabels_list = [ '%.0f' % elem for elem in xticklabels_list ]\n",
    "    ax[0].set_xticklabels(xticklabels_list, fontsize=10)\n",
    "\n",
    "    ax[0].xaxis.set_minor_locator(MultipleLocator(1.))\n",
    "    ax[0].yaxis.set_minor_locator(MultipleLocator(1.))\n",
    "\n",
    "    ax[0].tick_params(which='both', left=True, right=True, bottom=True, top=True)\n",
    "    ax[0].tick_params(which='both', labelbottom=True)\n",
    "\n",
    "    if isu:\n",
    "        ax[0].text(95.50, 25, r'$\\sigma_{25}$ = ' '%.1f' %amp25 + r'$\\mathrm{m s^{-1}}$',\n",
    "        horizontalalignment='right', verticalalignment='bottom', color='black')\n",
    "\n",
    "        ax[0].text(95.50, 20, r'$\\sigma_{20}$ = ' '%.1f' %amp20 + r'$\\mathrm{m s^{-1}}$',\n",
    "        horizontalalignment='right', verticalalignment='bottom', color='black')\n",
    "\n",
    "        ax[0].text(84.50, 25, r'$\\tau_{25}$ = ' '%.0f' %period + 'months',\n",
    "        horizontalalignment='left', verticalalignment='bottom', color='black')\n",
    "\n",
    "    # # colorbars\n",
    "    if isu:\n",
    "        label = r'$\\mathrm{m s^{-1}}$'\n",
    "    else:\n",
    "        label = r'$\\mathrm{m s^{-2}}$'\n",
    "    \n",
    "    cbar_ax0 = fig.add_axes(ax_pos_inch_to_absolute(fig_size, [01.00, 00.50, 05.50, 00.10])) \n",
    "    ax[0].figure.colorbar(plt.cm.ScalarMappable(cmap=\"RdYlBu_r\"), cax=cbar_ax0, format='% 2.0f', \n",
    "    boundaries=np.linspace(cmin, cmax, 21), orientation='horizontal',\n",
    "    label=label)\n"
   ]
  },
  {
   "cell_type": "code",
   "execution_count": 5,
   "metadata": {},
   "outputs": [],
   "source": [
    "def rMSE(s_gt, s_pred):\n",
    "    error = (s_gt - s_pred)\n",
    "    SSE = sum(error ** 2)\n",
    "    MSE = SSE/s_gt.shape[0]\n",
    "    RMSE = MSE**.5\n",
    "    return RMSE\n",
    "\n",
    "def plot_MSE(RMSE_list):\n",
    "    levels = list(range(len(RMSE_list[0])))\n",
    "    for RMSE in RMSE_list:\n",
    "        plt.scatter(x=RMSE, y=levels, s=2)\n",
    "        plt.plot(RMSE, levels)\n",
    "    plt.show()"
   ]
  },
  {
   "cell_type": "markdown",
   "metadata": {},
   "source": [
    "# Solve the PDE using WaveSpectrum as the source function"
   ]
  },
  {
   "cell_type": "code",
   "execution_count": 6,
   "metadata": {},
   "outputs": [],
   "source": [
    "# Load the data manually\n",
    "# it takes 40 seconds\n",
    "\n",
    "t_max = 360 * 108 * 86400\n",
    "nsteps = 360 * 108\n",
    "nspinup = 360 * 12\n",
    "ntot = int(nsteps - nspinup)\n",
    "\n",
    "torch.set_default_dtype(torch.float64)\n",
    "\n",
    "\n",
    "# scenario 0 (control)\n",
    "# --------------------\n",
    "solver = adsolver.ADSolver(t_max=t_max, w=3e-4)\n",
    "model = WaveSpectrum(solver)\n",
    "time = solver.time\n",
    "z = solver.z\n",
    "u = solver.solve(source_func=model)"
   ]
  },
  {
   "cell_type": "code",
   "execution_count": 7,
   "metadata": {},
   "outputs": [],
   "source": [
    "# calculate amplitude and period\n",
    "spinup_time = 12*360*86400\n",
    "\n",
    "amp25 = utils.estimate_amplitude(solver.time, solver.z, u, height=25e3, spinup=spinup_time)\n",
    "amp20 = utils.estimate_amplitude(solver.time, solver.z, u, height=20e3, spinup=spinup_time)\n",
    "tau25 = utils.estimate_period(solver.time, solver.z, u, height=25e3, spinup=spinup_time)"
   ]
  },
  {
   "cell_type": "code",
   "execution_count": 8,
   "metadata": {},
   "outputs": [],
   "source": [
    "s = model.s\n",
    "\n",
    "np.save('/Users/eddysmac/Desktop/QBO-Research/qbo1d/u.npy', u, allow_pickle=False)\n",
    "np.save('/Users/eddysmac/Desktop/QBO-Research/qbo1d/s.npy', s, allow_pickle=False)"
   ]
  },
  {
   "cell_type": "markdown",
   "metadata": {},
   "source": [
    "## Prepare for the data"
   ]
  },
  {
   "cell_type": "markdown",
   "metadata": {},
   "source": [
    "### Here we only use $u$ without concatnating $sf$ and $cw$"
   ]
  },
  {
   "cell_type": "code",
   "execution_count": 95,
   "metadata": {},
   "outputs": [],
   "source": [
    "u = np.load('/Users/eddysmac/Desktop/QBO-Research/qbo1d/u.npy')\n",
    "s = np.load('/Users/eddysmac/Desktop/QBO-Research/qbo1d/s.npy')"
   ]
  },
  {
   "cell_type": "code",
   "execution_count": 96,
   "metadata": {},
   "outputs": [],
   "source": [
    "U = u[nspinup:nsteps, :]\n",
    "s = model.s\n",
    "s = s[nspinup:nsteps, :]\n",
    "\n",
    "sc_X = StandardScaler()\n",
    "sc_y = StandardScaler()\n",
    "U = sc_X.fit_transform(U)\n",
    "s = sc_y.fit_transform(s)\n",
    "\n",
    "# Here U is the features and s is the label\n",
    "\n",
    "U_train, U_test, s_train, s_test = train_test_split(U, s, test_size=0.2, random_state=42)"
   ]
  },
  {
   "cell_type": "markdown",
   "metadata": {},
   "source": [
    "# Supported Vector Regression on $u$ (By sklearn)"
   ]
  },
  {
   "cell_type": "code",
   "execution_count": 98,
   "metadata": {},
   "outputs": [
    {
     "data": {
      "text/plain": [
       "MultiOutputRegressor(estimator=SVR(kernel='linear'))"
      ]
     },
     "execution_count": 98,
     "metadata": {},
     "output_type": "execute_result"
    }
   ],
   "source": [
    "svr = SVR(kernel='linear')\n",
    "mr = MultiOutputRegressor(svr)\n",
    "mr.fit(U_train, s_train)"
   ]
  },
  {
   "cell_type": "code",
   "execution_count": 102,
   "metadata": {},
   "outputs": [
    {
     "data": {
      "text/plain": [
       "0.8860770188976007"
      ]
     },
     "execution_count": 102,
     "metadata": {},
     "output_type": "execute_result"
    }
   ],
   "source": [
    "mr.score(U_test, s_test)"
   ]
  },
  {
   "cell_type": "code",
   "execution_count": 83,
   "metadata": {},
   "outputs": [],
   "source": [
    "prediction = svr.predict(U_test)\n",
    "mean_l2_loss = np.linalg.norm((sc_y.inverse_transform(prediction) - sc_y.inverse_transform(s_test)))"
   ]
  },
  {
   "cell_type": "code",
   "execution_count": 117,
   "metadata": {},
   "outputs": [
    {
     "name": "stdout",
     "output_type": "stream",
     "text": [
      "The UN - truncated u has length:  34561\n",
      "The truncated u has length:  34561\n"
     ]
    }
   ],
   "source": [
    "torch.set_default_dtype(torch.float64)\n",
    "solver_ML = adsolver.ADSolver(t_max=360*96*86400, w=3e-4)\n",
    "\n",
    "# Set up the linear model to pass in the PDE\n",
    "\n",
    "def model_ML_aug(x):\n",
    "    x = x.reshape(1, 73)\n",
    "    x = sc_X.transform(x)\n",
    "    y = mr.predict(x)\n",
    "    y = sc_y.inverse_transform(y)\n",
    "    \n",
    "    return torch.tensor(y[0])\n",
    "\n",
    "u_ML = solver_ML.solve(source_func=model_ML_aug)\n",
    "u_ML = u_ML.detach()\n",
    "\n",
    "print(\"The UN - truncated u has length: \", len(u_ML))\n",
    "nan_boolean = torch.tensor([not u_ML[i].isnan().any() for i in range(len(u_ML))]) # Boolean array to detect where u blows up\n",
    "u_ML = u_ML[nan_boolean]\n",
    "print(\"The truncated u has length: \", len(u_ML))"
   ]
  },
  {
   "cell_type": "code",
   "execution_count": 118,
   "metadata": {},
   "outputs": [],
   "source": [
    "spinup_time = 12*360*86400\n",
    "\n",
    "amp25_ML = utils.estimate_amplitude(solver_ML.time, solver_ML.z, u_ML, height=25e3, spinup=spinup_time)\n",
    "amp20_ML = utils.estimate_amplitude(solver_ML.time, solver_ML.z, u_ML, height=20e3, spinup=spinup_time)\n",
    "tau25_ML = utils.estimate_period(solver_ML.time, solver_ML.z, u_ML, height=25e3, spinup=spinup_time)"
   ]
  },
  {
   "cell_type": "code",
   "execution_count": 119,
   "metadata": {},
   "outputs": [],
   "source": [
    "# we need to calculate s_ML for further visualization\n",
    "# this step is not that trivial this time\n",
    "s_ML = torch.tensor(mr.predict(u_ML))\n"
   ]
  },
  {
   "cell_type": "code",
   "execution_count": 120,
   "metadata": {},
   "outputs": [
    {
     "data": {
      "image/png": "[encoded data removed]",
      "text/plain": [
       "<Figure size 496.8x266.4 with 2 Axes>"
      ]
     },
     "metadata": {
      "needs_background": "light"
     },
     "output_type": "display_data"
    }
   ],
   "source": [
    "plot_76_tensors(u_ML, solver_ML, amp20=amp20_ML, amp25=amp25_ML, period=tau25_ML)"
   ]
  },
  {
   "cell_type": "code",
   "execution_count": 121,
   "metadata": {},
   "outputs": [
    {
     "data": {
      "image/png": "[encoded data removed]",
      "text/plain": [
       "<Figure size 496.8x266.4 with 2 Axes>"
      ]
     },
     "metadata": {
      "needs_background": "light"
     },
     "output_type": "display_data"
    }
   ],
   "source": [
    "plot_76_tensors(s_ML, solver_ML, isu=False)"
   ]
  }
 ],
 "metadata": {
  "interpreter": {
   "hash": "830733ea9d918b531834fa8b8da0fcefcd54d93d922d0ee5d3d3c2269aa3eec6"
  },
  "kernelspec": {
   "display_name": "Python 3",
   "language": "python",
   "name": "python3"
  },
  "language_info": {
   "codemirror_mode": {
    "name": "ipython",
    "version": 3
   },
   "file_extension": ".py",
   "mimetype": "text/x-python",
   "name": "python",
   "nbconvert_exporter": "python",
   "pygments_lexer": "ipython3",
   "version": "3.8.8"
  }
 },
 "nbformat": 4,
 "nbformat_minor": 2
}
