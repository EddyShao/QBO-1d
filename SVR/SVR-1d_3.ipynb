{
 "cells": [
  {
   "cell_type": "code",
   "execution_count": 1,
   "metadata": {},
   "outputs": [],
   "source": [
    "import numpy as np\n",
    "import matplotlib as mpl\n",
    "from matplotlib import pyplot as plt\n",
    "from matplotlib import colors\n",
    "from matplotlib.ticker import MultipleLocator\n",
    "import os.path\n",
    "from pathlib import Path\n",
    "import torch\n",
    "from torch import nn\n",
    "from torch.utils.data import Dataset, DataLoader\n",
    "\n",
    "from qbo1d import utils\n",
    "from qbo1d import adsolver\n",
    "from qbo1d import emulate\n",
    "from qbo1d.stochastic_forcing import WaveSpectrum\n",
    "\n",
    "from sklearn.linear_model import LinearRegression\n",
    "from sklearn.model_selection import train_test_split\n",
    "\n",
    "from qbo1d.stochastic_forcing import sample_sf_cw\n",
    "from sklearn.preprocessing import StandardScaler\n",
    "\n",
    "from sklearn.svm import SVR, NuSVR, LinearSVR\n",
    "from sklearn.multioutput import MultiOutputRegressor\n",
    "from sklearn.decomposition import PCA\n",
    "\n",
    "%load_ext autoreload\n",
    "%autoreload 2"
   ]
  },
  {
   "cell_type": "code",
   "execution_count": 2,
   "metadata": {},
   "outputs": [],
   "source": [
    "# data generator:\n",
    "def data_generator(state=1):\n",
    "    '''\n",
    "    Input: state(0~4)\n",
    "    STATE = 0 -> old control\n",
    "    STATE = 1 -> new control\n",
    "    STATE = 2 -> different mean\n",
    "    STATE = 3 -> different variance\n",
    "    STATE = 4 -> anti-correlation(non-physical) \n",
    "\n",
    "    Output: (u, s, sf, cw, solver)\n",
    "    '''\n",
    "\n",
    "    # parameter dicts\n",
    "    sfe = [3.7e-3, 3.8e-3, 3.2e-3, 3.8e-3, 3.8e-3]\n",
    "    sfv = [1e-8, 9e-8, 9e-8, 9e-10, 9e-8]\n",
    "    cwe = [32, 32, 40, 32, 32]\n",
    "    cwv = [225, 225, 225, 225, 225]\n",
    "    corr = [0.75, 0.75, 0.75, 0.75, -0.75]\n",
    "    seed = [int(21*9+8), int(21*9+7), int(21*6+15), int(21*12+5), int(21*2+10)]\n",
    "\n",
    "    # generate the matrix form\n",
    "\n",
    "    para_mat = np.array([sfe, sfv, cwe, cwv, corr, seed]).T\n",
    "\n",
    "\n",
    "    # Load the data manually\n",
    "    # it takes 40 seconds\n",
    "\n",
    "    t_max = 360 * 108 * 86400\n",
    "    nsteps = 360 * 108\n",
    "    nspinup = 360 * 12\n",
    "    ntot = int(nsteps - nspinup)\n",
    "\n",
    "    torch.set_default_dtype(torch.float64)\n",
    "\n",
    "\n",
    "    # scenario 0 (control)\n",
    "    # --------------------\n",
    "    solver = adsolver.ADSolver(t_max=t_max, w=3e-4)\n",
    "    model = WaveSpectrum(solver, *para_mat[state])\n",
    "    time = solver.time\n",
    "    z = solver.z\n",
    "    u = solver.solve(source_func=model)\n",
    "\n",
    "    return u, model.s, model.sf, model.cw, solver\n",
    "\n"
   ]
  },
  {
   "cell_type": "code",
   "execution_count": 3,
   "metadata": {},
   "outputs": [
    {
     "name": "stderr",
     "output_type": "stream",
     "text": [
      "/Users/eddysmac/Desktop/QBO-1d/qbo1d/adsolver.py:145: UserWarning: torch.triangular_solve is deprecated in favor of torch.linalg.solve_triangularand will be removed in a future PyTorch release.\n",
      "torch.linalg.solve_triangular has its arguments reversed and does not return a copy of one of the inputs.\n",
      "X = torch.triangular_solve(B, A).solution\n",
      "should be replaced with\n",
      "X = torch.linalg.solve_triangular(A, B). (Triggered internally at  /Users/distiller/project/pytorch/aten/src/ATen/native/BatchLinearAlgebra.cpp:1672.)\n",
      "  u[n + 1] = torch.triangular_solve(b, self.R).solution.flatten()\n"
     ]
    }
   ],
   "source": [
    "STATE = 0\n",
    "u, s, sf, cw, solver = data_generator(state=STATE)"
   ]
  },
  {
   "cell_type": "code",
   "execution_count": 4,
   "metadata": {},
   "outputs": [],
   "source": [
    "# Data preprocessing\n",
    "nsteps = 360 * 108\n",
    "nspinup = 360 * 12\n",
    "\n",
    "\n",
    "U = u[nspinup:nsteps, :]\n",
    "SF = sf[nspinup:nsteps]\n",
    "CW = cw[nspinup:nsteps]\n",
    "\n",
    "U = torch.hstack([U[:, 1:-1], SF.view(-1, 1), CW.view(-1, 1)])\n",
    "\n",
    "S = s[nspinup:nsteps, :]\n",
    "\n",
    "# sc_U = StandardScaler()\n",
    "sc_U = PCA(n_components=16, whiten=True)\n",
    "sc_S = StandardScaler()\n",
    "\n",
    "# Here U is the features and s is the label\n",
    "\n",
    "U_train, U_test, s_train, s_test = train_test_split(U, S, test_size=0.8, random_state=42)\n",
    "\n",
    "\n",
    "\n",
    "\n",
    "sc_U.fit(U_train[:, :-2])\n",
    "\n",
    "def proc_U(X):\n",
    "    return np.hstack([sc_U.transform(X[:, :-2]), X[:, -2:]])\n",
    "\n",
    "\n",
    "\n",
    "U_train = proc_U(U_train)\n",
    "U_test = proc_U(U_test)\n",
    "\n",
    "s_train = sc_S.fit_transform(s_train)\n",
    "s_test = sc_S.transform(s_test)\n",
    "\n"
   ]
  },
  {
   "cell_type": "markdown",
   "metadata": {},
   "source": [
    "## Trial: 1d regression"
   ]
  },
  {
   "cell_type": "code",
   "execution_count": 9,
   "metadata": {},
   "outputs": [],
   "source": [
    "s_train_35 = s_train[:, 71]\n",
    "s_test_35 = s_test[:, 71]"
   ]
  },
  {
   "cell_type": "code",
   "execution_count": 10,
   "metadata": {},
   "outputs": [
    {
     "data": {
      "text/plain": [
       "SVR(C=32, gamma='auto')"
      ]
     },
     "execution_count": 10,
     "metadata": {},
     "output_type": "execute_result"
    }
   ],
   "source": [
    "svr = SVR(kernel = 'rbf', gamma='auto', epsilon=.1, C=32)\n",
    "svr.fit(U_train, s_train_35)"
   ]
  },
  {
   "cell_type": "code",
   "execution_count": 11,
   "metadata": {},
   "outputs": [
    {
     "data": {
      "text/plain": [
       "array([3558], dtype=int32)"
      ]
     },
     "execution_count": 11,
     "metadata": {},
     "output_type": "execute_result"
    }
   ],
   "source": [
    "svr.n_support_"
   ]
  },
  {
   "cell_type": "code",
   "execution_count": 12,
   "metadata": {},
   "outputs": [
    {
     "name": "stdout",
     "output_type": "stream",
     "text": [
      "0.808737075417309\n",
      "0.9808841799731494\n"
     ]
    }
   ],
   "source": [
    "print(svr.score(U_test, s_test_35))\n",
    "print(svr.score(U_train, s_train_35))"
   ]
  },
  {
   "cell_type": "markdown",
   "metadata": {},
   "source": [
    "## Multi-regression"
   ]
  },
  {
   "cell_type": "code",
   "execution_count": 29,
   "metadata": {},
   "outputs": [
    {
     "data": {
      "text/plain": [
       "MultiOutputRegressor(estimator=SVR(C=32, gamma='auto'))"
      ]
     },
     "execution_count": 29,
     "metadata": {},
     "output_type": "execute_result"
    }
   ],
   "source": [
    "svr_1d = SVR(kernel = 'rbf', gamma='auto', epsilon=.1, C=32)\n",
    "mr = MultiOutputRegressor(svr)\n",
    "mr.fit(U_train, s_train)"
   ]
  },
  {
   "cell_type": "code",
   "execution_count": 30,
   "metadata": {},
   "outputs": [
    {
     "data": {
      "text/plain": [
       "0.9425738094038272"
      ]
     },
     "execution_count": 30,
     "metadata": {},
     "output_type": "execute_result"
    }
   ],
   "source": [
    "mr.score(U_test, s_test)"
   ]
  },
  {
   "cell_type": "code",
   "execution_count": 36,
   "metadata": {},
   "outputs": [
    {
     "name": "stdout",
     "output_type": "stream",
     "text": [
      "The loss of the linear regression: 1.9227016558699298e-05\n"
     ]
    }
   ],
   "source": [
    "prediction = mr.predict(U_test)\n",
    "prediction_ = sc_S.inverse_transform(prediction)\n",
    "s_test_ = sc_S.inverse_transform(s_test)\n",
    "mean_l2_loss_ = np.linalg.norm((prediction_ - s_test_), axis=1).mean()\n",
    "print(f\"The loss of the linear regression: {mean_l2_loss_}\")\n"
   ]
  },
  {
   "cell_type": "markdown",
   "metadata": {},
   "source": [
    "## Visualization of the function"
   ]
  },
  {
   "cell_type": "code",
   "execution_count": 37,
   "metadata": {},
   "outputs": [],
   "source": [
    "s_pred = svr.predict(proc_U(U))"
   ]
  },
  {
   "cell_type": "code",
   "execution_count": 38,
   "metadata": {},
   "outputs": [],
   "source": [
    "scale = sc_S.scale_[35]\n",
    "me = sc_S.mean_[35]\n",
    "S_pred = s_pred * scale + me"
   ]
  },
  {
   "cell_type": "code",
   "execution_count": 52,
   "metadata": {},
   "outputs": [
    {
     "data": {
      "text/plain": [
       "[<matplotlib.lines.Line2D at 0x7fbd1e82a8b0>]"
      ]
     },
     "execution_count": 52,
     "metadata": {},
     "output_type": "execute_result"
    },
    {
     "data": {
      "image/png": "[encoded data removed]",
      "text/plain": [
       "<Figure size 432x288 with 1 Axes>"
      ]
     },
     "metadata": {
      "needs_background": "light"
     },
     "output_type": "display_data"
    }
   ],
   "source": [
    "plt.plot(S[500:600, 35])\n",
    "plt.plot(S_pred[500:600])"
   ]
  },
  {
   "cell_type": "markdown",
   "metadata": {},
   "source": [
    "## RMSE"
   ]
  },
  {
   "cell_type": "code",
   "execution_count": 44,
   "metadata": {},
   "outputs": [],
   "source": [
    "def rMSE(s_gt, s_pred):\n",
    "    error = (s_gt - s_pred)\n",
    "    SSE = sum(error ** 2)\n",
    "    MSE = SSE/s_gt.shape[0]\n",
    "    RMSE = MSE**.5\n",
    "    return RMSE\n",
    "    \n",
    "def plot_MSE(RMSE_list):\n",
    "    levels = list(range(len(RMSE_list[0])))\n",
    "    for RMSE in RMSE_list:\n",
    "        plt.scatter(x=RMSE, y=levels, s=2)\n",
    "        plt.plot(RMSE, levels)\n",
    "    plt.show()"
   ]
  },
  {
   "cell_type": "code",
   "execution_count": 49,
   "metadata": {},
   "outputs": [
    {
     "data": {
      "image/png": "[encoded data removed]",
      "text/plain": [
       "<Figure size 432x288 with 1 Axes>"
      ]
     },
     "metadata": {
      "needs_background": "light"
     },
     "output_type": "display_data"
    }
   ],
   "source": [
    "rmse_1 = rMSE(s_test_, prediction_)\n",
    "plot_MSE([rmse_1])"
   ]
  },
  {
   "cell_type": "markdown",
   "metadata": {},
   "source": [
    "## Comparison with linear models"
   ]
  },
  {
   "cell_type": "code",
   "execution_count": 46,
   "metadata": {},
   "outputs": [],
   "source": [
    "U_train_l, U_test_l, s_train_l, s_test_l = train_test_split(U, S, test_size=0.2, random_state=42)"
   ]
  },
  {
   "cell_type": "code",
   "execution_count": 48,
   "metadata": {},
   "outputs": [
    {
     "name": "stdout",
     "output_type": "stream",
     "text": [
      "The loss of the linear regression: 2.7714682118620806e-05\n",
      "R-squared: 0.895525856\n"
     ]
    }
   ],
   "source": [
    "reg = LinearRegression().fit(U_train_l, s_train_l)\n",
    "prediction = reg.predict(U_test_l)\n",
    "mean_l2_loss = np.linalg.norm((prediction - s_test_l.numpy()), axis=1).mean()\n",
    "print(f\"The loss of the linear regression: {mean_l2_loss}\")\n",
    "print(f\"R-squared: {reg.score(U_test_l, s_test_l):.9f}\")"
   ]
  },
  {
   "cell_type": "code",
   "execution_count": 51,
   "metadata": {},
   "outputs": [
    {
     "data": {
      "image/png": "[encoded data removed]",
      "text/plain": [
       "<Figure size 432x288 with 1 Axes>"
      ]
     },
     "metadata": {
      "needs_background": "light"
     },
     "output_type": "display_data"
    }
   ],
   "source": [
    "rmse_2 = rMSE(reg.predict(U_test_l), s_test_l.numpy())\n",
    "plot_MSE([rmse_1, rmse_2])"
   ]
  },
  {
   "cell_type": "code",
   "execution_count": null,
   "metadata": {},
   "outputs": [],
   "source": []
  }
 ],
 "metadata": {
  "interpreter": {
   "hash": "830733ea9d918b531834fa8b8da0fcefcd54d93d922d0ee5d3d3c2269aa3eec6"
  },
  "kernelspec": {
   "display_name": "Python 3.8.8 ('py38')",
   "language": "python",
   "name": "python3"
  },
  "language_info": {
   "codemirror_mode": {
    "name": "ipython",
    "version": 3
   },
   "file_extension": ".py",
   "mimetype": "text/x-python",
   "name": "python",
   "nbconvert_exporter": "python",
   "pygments_lexer": "ipython3",
   "version": "3.8.8"
  },
  "orig_nbformat": 4
 },
 "nbformat": 4,
 "nbformat_minor": 2
}
