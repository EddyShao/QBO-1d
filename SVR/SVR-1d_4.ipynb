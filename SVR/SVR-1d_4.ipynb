{
 "cells": [
  {
   "cell_type": "code",
   "execution_count": 1,
   "metadata": {},
   "outputs": [],
   "source": [
    "import numpy as np\n",
    "import matplotlib as mpl\n",
    "from matplotlib import pyplot as plt\n",
    "from matplotlib import colors\n",
    "from matplotlib.ticker import MultipleLocator\n",
    "import os.path\n",
    "from pathlib import Path\n",
    "import torch\n",
    "from torch import nn\n",
    "from torch.utils.data import Dataset, DataLoader\n",
    "\n",
    "from qbo1d import utils\n",
    "from qbo1d import adsolver\n",
    "from qbo1d import emulate\n",
    "from qbo1d.stochastic_forcing import WaveSpectrum\n",
    "\n",
    "from sklearn.linear_model import LinearRegression\n",
    "from sklearn.model_selection import train_test_split\n",
    "\n",
    "from qbo1d.stochastic_forcing import sample_sf_cw\n",
    "from sklearn.preprocessing import StandardScaler\n",
    "\n",
    "from sklearn.svm import SVR, NuSVR, LinearSVR\n",
    "from sklearn.multioutput import MultiOutputRegressor\n",
    "from sklearn.decomposition import PCA\n",
    "\n",
    "from scipy.spatial.distance import cdist\n",
    "\n",
    "import time\n",
    "\n",
    "%load_ext autoreload\n",
    "%autoreload 2"
   ]
  },
  {
   "cell_type": "code",
   "execution_count": 2,
   "metadata": {},
   "outputs": [],
   "source": [
    "# data generator:\n",
    "# parameter dicts\n",
    "sfe = [3.7e-3, 3.8e-3, 3.2e-3, 3.8e-3, 3.8e-3]\n",
    "sfv = [1e-8, 9e-8, 9e-8, 9e-10, 9e-8]\n",
    "cwe = [32, 32, 40, 32, 32]\n",
    "cwv = [225, 225, 225, 225, 225]\n",
    "corr = [0.75, 0.75, 0.75, 0.75, -0.75]\n",
    "seed = [int(21*9+8), int(21*9+7), int(21*6+15), int(21*12+5), int(21*2+10)]\n",
    "\n",
    "# generate the matrix form\n",
    "\n",
    "para_mat = np.array([sfe, sfv, cwe, cwv, corr, seed]).T\n",
    "\n",
    "def data_generator(state=1):\n",
    "    '''\n",
    "    Input: state(0~4)\n",
    "    STATE = 0 -> old control\n",
    "    STATE = 1 -> new control\n",
    "    STATE = 2 -> different mean\n",
    "    STATE = 3 -> different variance\n",
    "    STATE = 4 -> anti-correlation(non-physical) \n",
    "\n",
    "    Output: (u, s, sf, cw, solver)\n",
    "    '''\n",
    "\n",
    "    # Load the data manually\n",
    "    # it takes 40 seconds\n",
    "\n",
    "    t_max = 360 * 108 * 86400\n",
    "    nsteps = 360 * 108\n",
    "    nspinup = 360 * 12\n",
    "    ntot = int(nsteps - nspinup)\n",
    "\n",
    "    torch.set_default_dtype(torch.float64)\n",
    "\n",
    "    # scenario 0 (control)\n",
    "    # --------------------\n",
    "    solver = adsolver.ADSolver(t_max=t_max, w=3e-4)\n",
    "    model = WaveSpectrum(solver, *para_mat[state])\n",
    "    time = solver.time\n",
    "    z = solver.z\n",
    "    u = solver.solve(source_func=model)\n",
    "\n",
    "    return u, model.s, model.sf, model.cw, solver\n",
    "\n"
   ]
  },
  {
   "cell_type": "code",
   "execution_count": 3,
   "metadata": {},
   "outputs": [
    {
     "name": "stderr",
     "output_type": "stream",
     "text": [
      "/Users/eddysmac/Desktop/QBO-1d/qbo1d/adsolver.py:145: UserWarning: torch.triangular_solve is deprecated in favor of torch.linalg.solve_triangularand will be removed in a future PyTorch release.\n",
      "torch.linalg.solve_triangular has its arguments reversed and does not return a copy of one of the inputs.\n",
      "X = torch.triangular_solve(B, A).solution\n",
      "should be replaced with\n",
      "X = torch.linalg.solve_triangular(A, B). (Triggered internally at  /Users/distiller/project/pytorch/aten/src/ATen/native/BatchLinearAlgebra.cpp:1672.)\n",
      "  u[n + 1] = torch.triangular_solve(b, self.R).solution.flatten()\n"
     ]
    }
   ],
   "source": [
    "STATE = 0\n",
    "u, s, sf, cw, solver = data_generator(state=STATE)"
   ]
  },
  {
   "cell_type": "code",
   "execution_count": 4,
   "metadata": {},
   "outputs": [],
   "source": [
    "# Data preprocessing\n",
    "nsteps = 360 * 108\n",
    "nspinup = 360 * 12\n",
    "\n",
    "\n",
    "U = u[nspinup:nsteps, :]\n",
    "SF = sf[nspinup:nsteps]\n",
    "CW = cw[nspinup:nsteps]\n",
    "\n",
    "U = torch.hstack([U[:, 1:-1], SF.view(-1, 1), CW.view(-1, 1)])\n",
    "\n",
    "S = s[nspinup:nsteps, :]\n",
    "\n",
    "# sc_U = StandardScaler()\n",
    "sc_U = PCA(n_components=8, whiten=True)\n",
    "sc_S = StandardScaler()\n",
    "\n",
    "# Here U is the features and s is the label\n",
    "\n",
    "U_train, U_test, s_train, s_test = train_test_split(U, S, test_size=0.8, random_state=42)\n",
    "\n",
    "\n",
    "\n",
    "\n",
    "sc_U.fit(U_train[:, :-2])\n",
    "\n",
    "def proc_U(X):\n",
    "    return np.hstack([sc_U.transform(X[:, :-2]), X[:, -2:]])\n",
    "\n",
    "\n",
    "\n",
    "U_train = proc_U(U_train)\n",
    "U_test = proc_U(U_test)\n",
    "\n",
    "s_train = sc_S.fit_transform(s_train)\n",
    "s_test = sc_S.transform(s_test)"
   ]
  },
  {
   "cell_type": "markdown",
   "metadata": {},
   "source": [
    "## Trial: 1d regression"
   ]
  },
  {
   "cell_type": "code",
   "execution_count": 5,
   "metadata": {},
   "outputs": [],
   "source": [
    "s_train_35 = s_train[:, 35]\n",
    "s_test_35 = s_test[:, 35]"
   ]
  },
  {
   "cell_type": "code",
   "execution_count": 6,
   "metadata": {},
   "outputs": [
    {
     "data": {
      "text/plain": [
       "SVR(C=32, epsilon=0.5, gamma='auto')"
      ]
     },
     "execution_count": 6,
     "metadata": {},
     "output_type": "execute_result"
    }
   ],
   "source": [
    "svr = SVR(kernel='rbf', gamma='auto', epsilon=.5, C=32)\n",
    "svr.fit(U_train, s_train_35)"
   ]
  },
  {
   "cell_type": "code",
   "execution_count": 7,
   "metadata": {},
   "outputs": [
    {
     "data": {
      "text/plain": [
       "array([621], dtype=int32)"
      ]
     },
     "execution_count": 7,
     "metadata": {},
     "output_type": "execute_result"
    }
   ],
   "source": [
    "svr.n_support_"
   ]
  },
  {
   "cell_type": "code",
   "execution_count": 8,
   "metadata": {},
   "outputs": [
    {
     "name": "stdout",
     "output_type": "stream",
     "text": [
      "0.8497017262759938\n",
      "0.8921187458039755\n"
     ]
    }
   ],
   "source": [
    "print(svr.score(U_test, s_test_35))\n",
    "print(svr.score(U_train, s_train_35))"
   ]
  },
  {
   "cell_type": "code",
   "execution_count": 9,
   "metadata": {},
   "outputs": [
    {
     "name": "stdout",
     "output_type": "stream",
     "text": [
      "[-0.05094174  0.52712712  0.90455839 ...  0.31906981  0.36615877\n",
      "  0.27645031]\n",
      "1.955272912979126\n"
     ]
    }
   ],
   "source": [
    "start = time.time()\n",
    "print(svr.predict(U_test))\n",
    "end = time.time()\n",
    "\n",
    "print(end - start)"
   ]
  },
  {
   "cell_type": "markdown",
   "metadata": {},
   "source": [
    "## Multi-regression"
   ]
  },
  {
   "cell_type": "code",
   "execution_count": 55,
   "metadata": {},
   "outputs": [
    {
     "data": {
      "text/plain": [
       "MultiOutputRegressor(estimator=SVR(C=32, epsilon=0.5, gamma='auto'))"
      ]
     },
     "execution_count": 55,
     "metadata": {},
     "output_type": "execute_result"
    }
   ],
   "source": [
    "svr_1d = SVR(kernel = 'rbf', gamma='auto', epsilon=.1, C=32)\n",
    "mr = MultiOutputRegressor(svr)\n",
    "mr.fit(U_train, s_train)"
   ]
  },
  {
   "cell_type": "code",
   "execution_count": 56,
   "metadata": {},
   "outputs": [
    {
     "data": {
      "text/plain": [
       "0.8399420371076621"
      ]
     },
     "execution_count": 56,
     "metadata": {},
     "output_type": "execute_result"
    }
   ],
   "source": [
    "mr.score(U_test, s_test)"
   ]
  },
  {
   "cell_type": "code",
   "execution_count": 36,
   "metadata": {},
   "outputs": [
    {
     "name": "stdout",
     "output_type": "stream",
     "text": [
      "The loss of the linear regression: 1.9227016558699298e-05\n"
     ]
    }
   ],
   "source": [
    "prediction = mr.predict(U_test)\n",
    "prediction_ = sc_S.inverse_transform(prediction)\n",
    "s_test_ = sc_S.inverse_transform(s_test)\n",
    "mean_l2_loss_ = np.linalg.norm((prediction_ - s_test_), axis=1).mean()\n",
    "print(f\"The loss of the linear regression: {mean_l2_loss_}\")\n"
   ]
  },
  {
   "cell_type": "markdown",
   "metadata": {},
   "source": [
    "# Try to do online testing"
   ]
  },
  {
   "cell_type": "code",
   "execution_count": 57,
   "metadata": {},
   "outputs": [],
   "source": [
    "# use the last slice of the control run\n",
    "initial_condition = lambda z: u[-1, :] "
   ]
  },
  {
   "cell_type": "code",
   "execution_count": 58,
   "metadata": {},
   "outputs": [
    {
     "name": "stdout",
     "output_type": "stream",
     "text": [
      "The UN - truncated u has length:  34561\n",
      "The truncated u has length:  34561\n"
     ]
    }
   ],
   "source": [
    "torch.set_default_dtype(torch.float64)\n",
    "solver_ML = adsolver.ADSolver(t_max=360*96*86400, w=3e-4, initial_condition=initial_condition)\n",
    "\n",
    "# Set up the linear model to pass in the PDE\n",
    "\n",
    "def model_ML_aug_1(x):\n",
    "    x = torch.hstack([x[1:-1], sf[solver_ML.current_step], cw[solver_ML.current_step]])\n",
    "    x = x.reshape(1, 73)\n",
    "    x = proc_U(x)\n",
    "    y = mr.predict(x)\n",
    "    y = sc_S.inverse_transform(y)\n",
    "    \n",
    "    return torch.tensor(y[0])\n",
    "\n",
    "sf_ML, cw_ML = sample_sf_cw(solver_ML.time.shape[0], sfe=3.7e-3, sfv=1e-8, cwe=32, cwv=225, corr=0.75, seed=int(21*9+8))\n",
    "\n",
    "# def model_ML_aug_2(x):\n",
    "#     x = torch.hstack([x[1:-1], sf_ML[solver_ML.current_step], cw_ML[solver_ML.current_step]])\n",
    "#     x = x.reshape(1, 73)\n",
    "#     return torch.tensor(reg.predict(x))[0]\n",
    "\n",
    "model_ML_aug = lambda x:  1 * model_ML_aug_1(x) \n",
    "\n",
    "u_ML = solver_ML.solve(source_func=model_ML_aug)\n",
    "u_ML = u_ML.detach()\n",
    "\n",
    "print(\"The UN - truncated u has length: \", len(u_ML))\n",
    "nan_boolean = torch.tensor([not u_ML[i].isnan().any() for i in range(len(u_ML))]) # Boolean array to detect where u blows up\n",
    "u_ML = u_ML[nan_boolean]\n",
    "print(\"The truncated u has length: \", len(u_ML))"
   ]
  },
  {
   "cell_type": "code",
   "execution_count": 59,
   "metadata": {},
   "outputs": [],
   "source": [
    "# Plotting function\n",
    "\n",
    "def ax_pos_inch_to_absolute(fig_size, ax_pos_inch):\n",
    "    ax_pos_absolute = []\n",
    "    ax_pos_absolute.append(ax_pos_inch[0]/fig_size[0])\n",
    "    ax_pos_absolute.append(ax_pos_inch[1]/fig_size[1])\n",
    "    ax_pos_absolute.append(ax_pos_inch[2]/fig_size[0])\n",
    "    ax_pos_absolute.append(ax_pos_inch[3]/fig_size[1])\n",
    "    \n",
    "    return ax_pos_absolute\n",
    "\n",
    "def plot_76_tensors(u, solver, amp25=None, amp20=None, period=None, isu=True, text='model 0'):\n",
    "    \n",
    "    fig_size = (06.90, 02.20+01.50)\n",
    "    fig = plt.figure(figsize=fig_size)\n",
    "\n",
    "    ax = []\n",
    "\n",
    "    ax.append(fig.add_axes(ax_pos_inch_to_absolute(fig_size, [00.75, 01.25, 06.00, 02.00])))\n",
    "\n",
    "    cmin = -u.abs().max()\n",
    "    cmax = u.abs().max()\n",
    "    \n",
    "    xmin = 84.\n",
    "    xmax = 96.\n",
    "    ymin = 17.\n",
    "    ymax = 35.\n",
    "\n",
    "    ax[0].set_xlim(left=84.)\n",
    "    ax[0].set_xlim(right=96.)\n",
    "    ax[0].set_ylim(bottom=17.)\n",
    "    ax[0].set_ylim(top=35.)\n",
    "\n",
    "    h = []\n",
    "\n",
    "    h.append(ax[0].contourf(solver.time/86400/360, solver.z/1000, u.T,\n",
    "                21, cmap=\"RdYlBu_r\", vmin=cmin, vmax=cmax))\n",
    "\n",
    "    \n",
    "    ax[0].set_ylabel('Km', fontsize=10)\n",
    "\n",
    "    ax[0].set_xlabel('model year', fontsize=10)\n",
    "\n",
    "    # Set ticks\n",
    "    xticks_list = np.arange(xmin, xmax+1, 1)\n",
    "    ax[0].set_xticks(xticks_list)\n",
    "\n",
    "    yticks_list = np.arange(ymin, ymax+2, 2)\n",
    "    ax[0].set_yticks(yticks_list)\n",
    "\n",
    "    xticklabels_list = list(xticks_list)\n",
    "    xticklabels_list = [ '%.0f' % elem for elem in xticklabels_list ]\n",
    "    ax[0].set_xticklabels(xticklabels_list, fontsize=10)\n",
    "\n",
    "    ax[0].xaxis.set_minor_locator(MultipleLocator(1.))\n",
    "    ax[0].yaxis.set_minor_locator(MultipleLocator(1.))\n",
    "\n",
    "    ax[0].tick_params(which='both', left=True, right=True, bottom=True, top=True)\n",
    "    ax[0].tick_params(which='both', labelbottom=True)\n",
    "\n",
    "    # if u, the display \\tau and \\sigma\n",
    "    if isu:\n",
    "        ax[0].axhline(25., xmin=0, xmax=1, color='white', linestyle='dashed', linewidth=1.)\n",
    "        ax[0].axhline(20., xmin=0, xmax=1, color='white', linestyle='dashed', linewidth=1.)\n",
    "\n",
    "        ax[0].text(95.50, 25, r'$\\sigma_{25}$ = ' '%.1f' %amp25 + r'$\\mathrm{m s^{-1}}$',\n",
    "        horizontalalignment='right', verticalalignment='bottom', color='black')\n",
    "\n",
    "        ax[0].text(95.50, 20, r'$\\sigma_{20}$ = ' '%.1f' %amp20 + r'$\\mathrm{m s^{-1}}$',\n",
    "        horizontalalignment='right', verticalalignment='bottom', color='black')\n",
    "\n",
    "        ax[0].text(84.50, 25, r'$\\tau_{25}$ = ' '%.0f' %period + 'months',\n",
    "        horizontalalignment='left', verticalalignment='bottom', color='black')\n",
    "\n",
    "    # The label it displays\n",
    "    # u/s has different dimension\n",
    "    if isu:\n",
    "        label = r'$\\mathrm{m s^{-1}}$'\n",
    "    else:\n",
    "        label = r'$\\mathrm{m s^{-2}}$'\n",
    "    \n",
    "    # Color bars\n",
    "    if isu:\n",
    "        cbar_ax0 = fig.add_axes(ax_pos_inch_to_absolute(fig_size, [01.00, 00.50, 05.50, 00.10])) \n",
    "        ax[0].figure.colorbar(plt.cm.ScalarMappable(cmap=\"RdYlBu_r\"), cax=cbar_ax0, format='% 2.0f', \n",
    "        boundaries=np.linspace(cmin, cmax, 21), orientation='horizontal',\n",
    "        label=label)\n",
    "    else:\n",
    "        cbar_ax0 = fig.add_axes(ax_pos_inch_to_absolute(fig_size, [01.00, 00.50, 05.50, 00.10])) \n",
    "        ax[0].figure.colorbar(plt.cm.ScalarMappable(cmap=\"RdYlBu_r\"), cax=cbar_ax0, format='% .2e', \n",
    "        boundaries=np.linspace(cmin, cmax, 11), orientation='horizontal',\n",
    "        label=label)\n",
    "    \n",
    "    plt.title(text)\n",
    "\n",
    "    plt.legend()\n",
    "    plt.show()\n",
    "\n",
    "def rMSE(s_pred, s_gt, s_std):\n",
    "    error = (s_gt - s_pred)\n",
    "    SSE = sum(error ** 2)\n",
    "    MSE = SSE/s_gt.shape[0]\n",
    "    RMSE = MSE**.5\n",
    "    return RMSE/s_std\n",
    "    \n",
    "def plot_rmse(*args):\n",
    "    for i in range(len(args)):\n",
    "        plt.plot(range(len(args[i])), args[i], label='model' + str(i))\n",
    "    \n",
    "    plt.xlabel('z level(indices)')\n",
    "    plt.ylabel('rMSE')\n",
    "    plt.title('Plot of rMSEs')\n",
    "    plt.legend()\n",
    "    plt.show()\n",
    "\n",
    "\n",
    "def para_for_plotting(solver, u):\n",
    "    # calculate amplitude and period\n",
    "    spinup_time = 12*360*86400\n",
    "\n",
    "    amp25 = utils.estimate_amplitude(solver.time, solver.z, u, height=25e3, spinup=spinup_time)\n",
    "    amp20 = utils.estimate_amplitude(solver.time, solver.z, u, height=20e3, spinup=spinup_time)\n",
    "    tau25 = utils.estimate_period(solver.time, solver.z, u, height=25e3, spinup=spinup_time)\n",
    "\n",
    "    return {'amp25':amp25, 'amp20':amp20, 'period':tau25}\n",
    "\n",
    "def plot_wind_level(u, level=35, text='MODEL 0'):\n",
    "    plt.plot(u[:, level])\n",
    "    plt.xlabel('timestep')\n",
    "    plt.ylabel('zonal wind at z=' + str(level))\n",
    "    plt.title(text)\n",
    "    plt.show()\n"
   ]
  },
  {
   "cell_type": "code",
   "execution_count": 60,
   "metadata": {},
   "outputs": [
    {
     "data": {
      "text/plain": [
       "{'amp25': tensor(2.6640), 'amp20': tensor(2.2059), 'period': tensor(4.9456)}"
      ]
     },
     "execution_count": 60,
     "metadata": {},
     "output_type": "execute_result"
    }
   ],
   "source": [
    "para_for_plotting(solver_ML, u_ML)"
   ]
  },
  {
   "cell_type": "code",
   "execution_count": 61,
   "metadata": {},
   "outputs": [
    {
     "name": "stderr",
     "output_type": "stream",
     "text": [
      "No handles with labels found to put in legend.\n"
     ]
    },
    {
     "data": {
      "image/png": "[encoded data removed]",
      "text/plain": [
       "<Figure size 496.8x266.4 with 2 Axes>"
      ]
     },
     "metadata": {
      "needs_background": "light"
     },
     "output_type": "display_data"
    }
   ],
   "source": [
    "plot_76_tensors(u_ML, solver_ML, isu=True, **para_for_plotting(solver_ML, u_ML))"
   ]
  },
  {
   "cell_type": "code",
   "execution_count": 62,
   "metadata": {},
   "outputs": [
    {
     "data": {
      "image/png": "[encoded data removed]",
      "text/plain": [
       "<Figure size 432x288 with 1 Axes>"
      ]
     },
     "metadata": {
      "needs_background": "light"
     },
     "output_type": "display_data"
    }
   ],
   "source": [
    "plot_wind_level(u_ML, level=40)"
   ]
  },
  {
   "cell_type": "markdown",
   "metadata": {},
   "source": []
  }
 ],
 "metadata": {
  "interpreter": {
   "hash": "830733ea9d918b531834fa8b8da0fcefcd54d93d922d0ee5d3d3c2269aa3eec6"
  },
  "kernelspec": {
   "display_name": "Python 3.8.8 ('py38')",
   "language": "python",
   "name": "python3"
  },
  "language_info": {
   "codemirror_mode": {
    "name": "ipython",
    "version": 3
   },
   "file_extension": ".py",
   "mimetype": "text/x-python",
   "name": "python",
   "nbconvert_exporter": "python",
   "pygments_lexer": "ipython3",
   "version": "3.8.8"
  },
  "orig_nbformat": 4
 },
 "nbformat": 4,
 "nbformat_minor": 2
}
